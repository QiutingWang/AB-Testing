{
  "nbformat": 4,
  "nbformat_minor": 0,
  "metadata": {
    "colab": {
      "provenance": []
    },
    "kernelspec": {
      "name": "python3",
      "display_name": "Python 3"
    },
    "language_info": {
      "name": "python"
    }
  },
  "cells": [
    {
      "cell_type": "markdown",
      "source": [
        "## The Effect of Management Training for Individual Contributors Transform to Managers"
      ],
      "metadata": {
        "id": "FtzueMScM_e0"
      }
    },
    {
      "cell_type": "markdown",
      "source": [
        "### Dataset"
      ],
      "metadata": {
        "id": "ZsVV83AFN_R6"
      }
    },
    {
      "cell_type": "code",
      "source": [
        "import pandas as pd\n",
        "import numpy as np\n",
        "np.random.seed(123)"
      ],
      "metadata": {
        "id": "2wVsivZNL2dx"
      },
      "execution_count": 1,
      "outputs": []
    },
    {
      "cell_type": "code",
      "source": [
        "df = (pd.read_csv(\"/content/learning_mindset.csv\")\n",
        "      .rename(columns={\"schoolid\": \"departament_id\",\n",
        "                       \"achievement_score\": \"engagement_score\",\n",
        "                       \"success_expect\": \"tenure\",\n",
        "                       \"school_achievement\": \"last_engagement_score\",\n",
        "                       \"school_urbanicity\": \"role\",\n",
        "                       \"school_poverty\": \"department_score\",\n",
        "                       \"school_size\": \"department_size\",\n",
        "                       \"ethnicity\": \"n_of_reports\"})\n",
        "      # reduce overlapp for better examples\n",
        "      .assign(intervention = lambda d: (d[\"intervention\"].astype(bool) | (np.random.normal(d[\"last_engagement_score\"]) > 1.65)).astype(int))\n",
        "      .assign(intervention = lambda d: (d[\"intervention\"].astype(bool) | (np.random.normal(d[\"tenure\"], 2) > 7)).astype(int))\n",
        "      .assign(n_of_reports = lambda d: d[\"n_of_reports\"].clip(0, 8))\n",
        "      .assign(department_size = lambda d: d.groupby(\"departament_id\")[\"n_of_reports\"].transform(sum))\n",
        "      .assign(last_engagement_score = lambda d: np.random.normal(d[\"last_engagement_score\"]))\n",
        "      .drop(columns=[\"frst_in_family\", \"school_mindset\", \"school_ethnic_minority\"]))\n",
        "\n",
        "\n",
        "df.to_csv(\"/content/management_training.csv\", index=False)"
      ],
      "metadata": {
        "id": "xWhx-dMGOVcV"
      },
      "execution_count": 2,
      "outputs": []
    },
    {
      "cell_type": "code",
      "source": [
        "df1=pd.read_csv(\"/content/management_training.csv\")\n",
        "df1.head()"
      ],
      "metadata": {
        "colab": {
          "base_uri": "https://localhost:8080/",
          "height": 241
        },
        "id": "jWOdA4b8PY0J",
        "outputId": "9f9cc368-9cc8-4184-91cf-37323a64f865"
      },
      "execution_count": 3,
      "outputs": [
        {
          "output_type": "execute_result",
          "data": {
            "text/plain": [
              "   departament_id  intervention  engagement_score  tenure  n_of_reports  \\\n",
              "0              76             1          0.277359       6             4   \n",
              "1              76             1         -0.449646       4             8   \n",
              "2              76             1          0.769703       6             4   \n",
              "3              76             1         -0.121763       6             4   \n",
              "4              76             1          1.526147       6             4   \n",
              "\n",
              "   gender  role  last_engagement_score  department_score  department_size  \n",
              "0       2     4               0.614261          0.224077              843  \n",
              "1       2     4               0.069636          0.224077              843  \n",
              "2       2     4               0.866918          0.224077              843  \n",
              "3       2     4               0.029071          0.224077              843  \n",
              "4       1     4               0.589857          0.224077              843  "
            ],
            "text/html": [
              "\n",
              "  <div id=\"df-ef426c32-4b52-4a03-bb0d-bef11cec528a\" class=\"colab-df-container\">\n",
              "    <div>\n",
              "<style scoped>\n",
              "    .dataframe tbody tr th:only-of-type {\n",
              "        vertical-align: middle;\n",
              "    }\n",
              "\n",
              "    .dataframe tbody tr th {\n",
              "        vertical-align: top;\n",
              "    }\n",
              "\n",
              "    .dataframe thead th {\n",
              "        text-align: right;\n",
              "    }\n",
              "</style>\n",
              "<table border=\"1\" class=\"dataframe\">\n",
              "  <thead>\n",
              "    <tr style=\"text-align: right;\">\n",
              "      <th></th>\n",
              "      <th>departament_id</th>\n",
              "      <th>intervention</th>\n",
              "      <th>engagement_score</th>\n",
              "      <th>tenure</th>\n",
              "      <th>n_of_reports</th>\n",
              "      <th>gender</th>\n",
              "      <th>role</th>\n",
              "      <th>last_engagement_score</th>\n",
              "      <th>department_score</th>\n",
              "      <th>department_size</th>\n",
              "    </tr>\n",
              "  </thead>\n",
              "  <tbody>\n",
              "    <tr>\n",
              "      <th>0</th>\n",
              "      <td>76</td>\n",
              "      <td>1</td>\n",
              "      <td>0.277359</td>\n",
              "      <td>6</td>\n",
              "      <td>4</td>\n",
              "      <td>2</td>\n",
              "      <td>4</td>\n",
              "      <td>0.614261</td>\n",
              "      <td>0.224077</td>\n",
              "      <td>843</td>\n",
              "    </tr>\n",
              "    <tr>\n",
              "      <th>1</th>\n",
              "      <td>76</td>\n",
              "      <td>1</td>\n",
              "      <td>-0.449646</td>\n",
              "      <td>4</td>\n",
              "      <td>8</td>\n",
              "      <td>2</td>\n",
              "      <td>4</td>\n",
              "      <td>0.069636</td>\n",
              "      <td>0.224077</td>\n",
              "      <td>843</td>\n",
              "    </tr>\n",
              "    <tr>\n",
              "      <th>2</th>\n",
              "      <td>76</td>\n",
              "      <td>1</td>\n",
              "      <td>0.769703</td>\n",
              "      <td>6</td>\n",
              "      <td>4</td>\n",
              "      <td>2</td>\n",
              "      <td>4</td>\n",
              "      <td>0.866918</td>\n",
              "      <td>0.224077</td>\n",
              "      <td>843</td>\n",
              "    </tr>\n",
              "    <tr>\n",
              "      <th>3</th>\n",
              "      <td>76</td>\n",
              "      <td>1</td>\n",
              "      <td>-0.121763</td>\n",
              "      <td>6</td>\n",
              "      <td>4</td>\n",
              "      <td>2</td>\n",
              "      <td>4</td>\n",
              "      <td>0.029071</td>\n",
              "      <td>0.224077</td>\n",
              "      <td>843</td>\n",
              "    </tr>\n",
              "    <tr>\n",
              "      <th>4</th>\n",
              "      <td>76</td>\n",
              "      <td>1</td>\n",
              "      <td>1.526147</td>\n",
              "      <td>6</td>\n",
              "      <td>4</td>\n",
              "      <td>1</td>\n",
              "      <td>4</td>\n",
              "      <td>0.589857</td>\n",
              "      <td>0.224077</td>\n",
              "      <td>843</td>\n",
              "    </tr>\n",
              "  </tbody>\n",
              "</table>\n",
              "</div>\n",
              "    <div class=\"colab-df-buttons\">\n",
              "\n",
              "  <div class=\"colab-df-container\">\n",
              "    <button class=\"colab-df-convert\" onclick=\"convertToInteractive('df-ef426c32-4b52-4a03-bb0d-bef11cec528a')\"\n",
              "            title=\"Convert this dataframe to an interactive table.\"\n",
              "            style=\"display:none;\">\n",
              "\n",
              "  <svg xmlns=\"http://www.w3.org/2000/svg\" height=\"24px\" viewBox=\"0 -960 960 960\">\n",
              "    <path d=\"M120-120v-720h720v720H120Zm60-500h600v-160H180v160Zm220 220h160v-160H400v160Zm0 220h160v-160H400v160ZM180-400h160v-160H180v160Zm440 0h160v-160H620v160ZM180-180h160v-160H180v160Zm440 0h160v-160H620v160Z\"/>\n",
              "  </svg>\n",
              "    </button>\n",
              "\n",
              "  <style>\n",
              "    .colab-df-container {\n",
              "      display:flex;\n",
              "      gap: 12px;\n",
              "    }\n",
              "\n",
              "    .colab-df-convert {\n",
              "      background-color: #E8F0FE;\n",
              "      border: none;\n",
              "      border-radius: 50%;\n",
              "      cursor: pointer;\n",
              "      display: none;\n",
              "      fill: #1967D2;\n",
              "      height: 32px;\n",
              "      padding: 0 0 0 0;\n",
              "      width: 32px;\n",
              "    }\n",
              "\n",
              "    .colab-df-convert:hover {\n",
              "      background-color: #E2EBFA;\n",
              "      box-shadow: 0px 1px 2px rgba(60, 64, 67, 0.3), 0px 1px 3px 1px rgba(60, 64, 67, 0.15);\n",
              "      fill: #174EA6;\n",
              "    }\n",
              "\n",
              "    .colab-df-buttons div {\n",
              "      margin-bottom: 4px;\n",
              "    }\n",
              "\n",
              "    [theme=dark] .colab-df-convert {\n",
              "      background-color: #3B4455;\n",
              "      fill: #D2E3FC;\n",
              "    }\n",
              "\n",
              "    [theme=dark] .colab-df-convert:hover {\n",
              "      background-color: #434B5C;\n",
              "      box-shadow: 0px 1px 3px 1px rgba(0, 0, 0, 0.15);\n",
              "      filter: drop-shadow(0px 1px 2px rgba(0, 0, 0, 0.3));\n",
              "      fill: #FFFFFF;\n",
              "    }\n",
              "  </style>\n",
              "\n",
              "    <script>\n",
              "      const buttonEl =\n",
              "        document.querySelector('#df-ef426c32-4b52-4a03-bb0d-bef11cec528a button.colab-df-convert');\n",
              "      buttonEl.style.display =\n",
              "        google.colab.kernel.accessAllowed ? 'block' : 'none';\n",
              "\n",
              "      async function convertToInteractive(key) {\n",
              "        const element = document.querySelector('#df-ef426c32-4b52-4a03-bb0d-bef11cec528a');\n",
              "        const dataTable =\n",
              "          await google.colab.kernel.invokeFunction('convertToInteractive',\n",
              "                                                    [key], {});\n",
              "        if (!dataTable) return;\n",
              "\n",
              "        const docLinkHtml = 'Like what you see? Visit the ' +\n",
              "          '<a target=\"_blank\" href=https://colab.research.google.com/notebooks/data_table.ipynb>data table notebook</a>'\n",
              "          + ' to learn more about interactive tables.';\n",
              "        element.innerHTML = '';\n",
              "        dataTable['output_type'] = 'display_data';\n",
              "        await google.colab.output.renderOutput(dataTable, element);\n",
              "        const docLink = document.createElement('div');\n",
              "        docLink.innerHTML = docLinkHtml;\n",
              "        element.appendChild(docLink);\n",
              "      }\n",
              "    </script>\n",
              "  </div>\n",
              "\n",
              "\n",
              "<div id=\"df-60151958-0326-4972-b242-0ec37efa7cdf\">\n",
              "  <button class=\"colab-df-quickchart\" onclick=\"quickchart('df-60151958-0326-4972-b242-0ec37efa7cdf')\"\n",
              "            title=\"Suggest charts\"\n",
              "            style=\"display:none;\">\n",
              "\n",
              "<svg xmlns=\"http://www.w3.org/2000/svg\" height=\"24px\"viewBox=\"0 0 24 24\"\n",
              "     width=\"24px\">\n",
              "    <g>\n",
              "        <path d=\"M19 3H5c-1.1 0-2 .9-2 2v14c0 1.1.9 2 2 2h14c1.1 0 2-.9 2-2V5c0-1.1-.9-2-2-2zM9 17H7v-7h2v7zm4 0h-2V7h2v10zm4 0h-2v-4h2v4z\"/>\n",
              "    </g>\n",
              "</svg>\n",
              "  </button>\n",
              "\n",
              "<style>\n",
              "  .colab-df-quickchart {\n",
              "      --bg-color: #E8F0FE;\n",
              "      --fill-color: #1967D2;\n",
              "      --hover-bg-color: #E2EBFA;\n",
              "      --hover-fill-color: #174EA6;\n",
              "      --disabled-fill-color: #AAA;\n",
              "      --disabled-bg-color: #DDD;\n",
              "  }\n",
              "\n",
              "  [theme=dark] .colab-df-quickchart {\n",
              "      --bg-color: #3B4455;\n",
              "      --fill-color: #D2E3FC;\n",
              "      --hover-bg-color: #434B5C;\n",
              "      --hover-fill-color: #FFFFFF;\n",
              "      --disabled-bg-color: #3B4455;\n",
              "      --disabled-fill-color: #666;\n",
              "  }\n",
              "\n",
              "  .colab-df-quickchart {\n",
              "    background-color: var(--bg-color);\n",
              "    border: none;\n",
              "    border-radius: 50%;\n",
              "    cursor: pointer;\n",
              "    display: none;\n",
              "    fill: var(--fill-color);\n",
              "    height: 32px;\n",
              "    padding: 0;\n",
              "    width: 32px;\n",
              "  }\n",
              "\n",
              "  .colab-df-quickchart:hover {\n",
              "    background-color: var(--hover-bg-color);\n",
              "    box-shadow: 0 1px 2px rgba(60, 64, 67, 0.3), 0 1px 3px 1px rgba(60, 64, 67, 0.15);\n",
              "    fill: var(--button-hover-fill-color);\n",
              "  }\n",
              "\n",
              "  .colab-df-quickchart-complete:disabled,\n",
              "  .colab-df-quickchart-complete:disabled:hover {\n",
              "    background-color: var(--disabled-bg-color);\n",
              "    fill: var(--disabled-fill-color);\n",
              "    box-shadow: none;\n",
              "  }\n",
              "\n",
              "  .colab-df-spinner {\n",
              "    border: 2px solid var(--fill-color);\n",
              "    border-color: transparent;\n",
              "    border-bottom-color: var(--fill-color);\n",
              "    animation:\n",
              "      spin 1s steps(1) infinite;\n",
              "  }\n",
              "\n",
              "  @keyframes spin {\n",
              "    0% {\n",
              "      border-color: transparent;\n",
              "      border-bottom-color: var(--fill-color);\n",
              "      border-left-color: var(--fill-color);\n",
              "    }\n",
              "    20% {\n",
              "      border-color: transparent;\n",
              "      border-left-color: var(--fill-color);\n",
              "      border-top-color: var(--fill-color);\n",
              "    }\n",
              "    30% {\n",
              "      border-color: transparent;\n",
              "      border-left-color: var(--fill-color);\n",
              "      border-top-color: var(--fill-color);\n",
              "      border-right-color: var(--fill-color);\n",
              "    }\n",
              "    40% {\n",
              "      border-color: transparent;\n",
              "      border-right-color: var(--fill-color);\n",
              "      border-top-color: var(--fill-color);\n",
              "    }\n",
              "    60% {\n",
              "      border-color: transparent;\n",
              "      border-right-color: var(--fill-color);\n",
              "    }\n",
              "    80% {\n",
              "      border-color: transparent;\n",
              "      border-right-color: var(--fill-color);\n",
              "      border-bottom-color: var(--fill-color);\n",
              "    }\n",
              "    90% {\n",
              "      border-color: transparent;\n",
              "      border-bottom-color: var(--fill-color);\n",
              "    }\n",
              "  }\n",
              "</style>\n",
              "\n",
              "  <script>\n",
              "    async function quickchart(key) {\n",
              "      const quickchartButtonEl =\n",
              "        document.querySelector('#' + key + ' button');\n",
              "      quickchartButtonEl.disabled = true;  // To prevent multiple clicks.\n",
              "      quickchartButtonEl.classList.add('colab-df-spinner');\n",
              "      try {\n",
              "        const charts = await google.colab.kernel.invokeFunction(\n",
              "            'suggestCharts', [key], {});\n",
              "      } catch (error) {\n",
              "        console.error('Error during call to suggestCharts:', error);\n",
              "      }\n",
              "      quickchartButtonEl.classList.remove('colab-df-spinner');\n",
              "      quickchartButtonEl.classList.add('colab-df-quickchart-complete');\n",
              "    }\n",
              "    (() => {\n",
              "      let quickchartButtonEl =\n",
              "        document.querySelector('#df-60151958-0326-4972-b242-0ec37efa7cdf button');\n",
              "      quickchartButtonEl.style.display =\n",
              "        google.colab.kernel.accessAllowed ? 'block' : 'none';\n",
              "    })();\n",
              "  </script>\n",
              "</div>\n",
              "    </div>\n",
              "  </div>\n"
            ]
          },
          "metadata": {},
          "execution_count": 3
        }
      ]
    },
    {
      "cell_type": "markdown",
      "source": [
        "- `intervention`: treatment variable\n",
        "- `engagement_score`: outcome of interest\n",
        "  - some ICs want to engage in the activity even without being assigned, while others don't want to go to the training.\n",
        "- `department_score`:average engagement score in the same department\n",
        "- `last_engagement_score`:the average score for an manager in previous iteration"
      ],
      "metadata": {
        "id": "ycsQT9PkRVAh"
      }
    },
    {
      "cell_type": "markdown",
      "source": [
        "### Linear Regression Adjustment for Confounders"
      ],
      "metadata": {
        "id": "wK5bQgGjTpvc"
      }
    },
    {
      "cell_type": "code",
      "source": [
        "import statsmodels.formula.api as smf\n",
        "smf.ols(\"engagement_score ~ intervention\", data=df1).fit().summary().tables[1]"
      ],
      "metadata": {
        "colab": {
          "base_uri": "https://localhost:8080/",
          "height": 90
        },
        "id": "O0oZbUn5PhFF",
        "outputId": "f98c55a4-623a-49e0-a26a-151ad527c8f8"
      },
      "execution_count": 4,
      "outputs": [
        {
          "output_type": "execute_result",
          "data": {
            "text/plain": [
              "<class 'statsmodels.iolib.table.SimpleTable'>"
            ],
            "text/html": [
              "<table class=\"simpletable\">\n",
              "<tr>\n",
              "        <td></td>          <th>coef</th>     <th>std err</th>      <th>t</th>      <th>P>|t|</th>  <th>[0.025</th>    <th>0.975]</th>  \n",
              "</tr>\n",
              "<tr>\n",
              "  <th>Intercept</th>    <td>   -0.2347</td> <td>    0.014</td> <td>  -16.619</td> <td> 0.000</td> <td>   -0.262</td> <td>   -0.207</td>\n",
              "</tr>\n",
              "<tr>\n",
              "  <th>intervention</th> <td>    0.4346</td> <td>    0.019</td> <td>   22.616</td> <td> 0.000</td> <td>    0.397</td> <td>    0.472</td>\n",
              "</tr>\n",
              "</table>"
            ],
            "text/latex": "\\begin{center}\n\\begin{tabular}{lcccccc}\n\\toprule\n                      & \\textbf{coef} & \\textbf{std err} & \\textbf{t} & \\textbf{P$> |$t$|$} & \\textbf{[0.025} & \\textbf{0.975]}  \\\\\n\\midrule\n\\textbf{Intercept}    &      -0.2347  &        0.014     &   -16.619  &         0.000        &       -0.262    &       -0.207     \\\\\n\\textbf{intervention} &       0.4346  &        0.019     &    22.616  &         0.000        &        0.397    &        0.472     \\\\\n\\bottomrule\n\\end{tabular}\n\\end{center}"
          },
          "metadata": {},
          "execution_count": 4
        }
      ]
    },
    {
      "cell_type": "markdown",
      "source": [
        "- The treatment is not random. We need to reduce the bias.\n",
        "- $engagement_i=τT_i+\\theta X_i+e_i$\n",
        "  - $X$: confounders 混淆因子，即会影响到干预变量，又会影响到结果变量"
      ],
      "metadata": {
        "id": "B8DrooMVAwo3"
      }
    },
    {
      "cell_type": "code",
      "source": [
        "model=smf.ols(\"\"\"\n",
        "              engagement_score~intervention\n",
        "              +tenure+last_engagement_score+department_score+n_of_reports+C(gender)+C(role)\"\"\", #put categorical variables into C()\n",
        "              data=df1).fit()\n",
        "print(\"ATE:\", model.params[\"intervention\"])\n",
        "print(\"95% Confident Interval\", model.conf_int().loc[\"intervention\", :].values.T)"
      ],
      "metadata": {
        "colab": {
          "base_uri": "https://localhost:8080/"
        },
        "id": "WcViJEG2BsxV",
        "outputId": "3b52f90f-b1eb-40b8-a0b6-de8a42b59dc4"
      },
      "execution_count": 5,
      "outputs": [
        {
          "output_type": "stream",
          "name": "stdout",
          "text": [
            "ATE: 0.26779085766768634\n",
            "95% Confident Interval [0.23357751 0.30200421]\n"
          ]
        }
      ]
    },
    {
      "cell_type": "markdown",
      "source": [
        "#### Conclusions:\n",
        "- Obveriously, the effect of the intervention on engagement is smaller than before.(0.26779086 < 0.4346)\n",
        "- hence, there exists <u>positive bias</u>. That is, employees who were already engaged are more likely to take participation in the program.\n",
        "\n",
        "#### ATE:\n",
        "- average treatment effect全部样本的平均处理效应\n",
        "  - $ATE=E[Y(T=1)-Y(T=0)]$\n",
        "- ATT: Average Treatment Effect on the Treated被处理者的平均处理效应\n",
        "  - 找到一个与被treated之前完全相同的sample，与做了treated之后做差\n",
        "  - 我们希望用ATE无限接近于ATT，就需要清理bias"
      ],
      "metadata": {
        "id": "ZM9066J8VOKD"
      }
    },
    {
      "cell_type": "markdown",
      "source": [
        "### Propensity Score Estimation\n",
        "\n",
        "- Balance Score: conditional probability of the treatement, $P(T|X)$, namely, $e(x)$ propensity score"
      ],
      "metadata": {
        "id": "5OpyqW1dVwEF"
      }
    },
    {
      "cell_type": "code",
      "source": [
        "import graphviz as gr"
      ],
      "metadata": {
        "id": "_wnxGaL5W3op"
      },
      "execution_count": 6,
      "outputs": []
    },
    {
      "cell_type": "code",
      "source": [
        "g = gr.Digraph(graph_attr={\"rankdir\":\"LR\"})\n",
        "g.edge(\"T\", \"Y\")\n",
        "g.edge(\"X\", \"Y\")\n",
        "g.edge(\"X\", \"e(x)\")\n",
        "g.edge(\"e(x)\", \"T\")\n",
        "g"
      ],
      "metadata": {
        "colab": {
          "base_uri": "https://localhost:8080/",
          "height": 111
        },
        "id": "22kEvsINXAfY",
        "outputId": "b1607893-0b0d-4ed4-e455-07069ede6850"
      },
      "execution_count": 7,
      "outputs": [
        {
          "output_type": "execute_result",
          "data": {
            "image/svg+xml": "<?xml version=\"1.0\" encoding=\"UTF-8\" standalone=\"no\"?>\n<!DOCTYPE svg PUBLIC \"-//W3C//DTD SVG 1.1//EN\"\n \"http://www.w3.org/Graphics/SVG/1.1/DTD/svg11.dtd\">\n<!-- Generated by graphviz version 2.43.0 (0)\n -->\n<!-- Title: %3 Pages: 1 -->\n<svg width=\"332pt\" height=\"67pt\"\n viewBox=\"0.00 0.00 332.00 67.00\" xmlns=\"http://www.w3.org/2000/svg\" xmlns:xlink=\"http://www.w3.org/1999/xlink\">\n<g id=\"graph0\" class=\"graph\" transform=\"scale(1 1) rotate(0) translate(4 63)\">\n<title>%3</title>\n<polygon fill=\"white\" stroke=\"transparent\" points=\"-4,4 -4,-63 328,-63 328,4 -4,4\"/>\n<!-- T -->\n<g id=\"node1\" class=\"node\">\n<title>T</title>\n<ellipse fill=\"none\" stroke=\"black\" cx=\"207\" cy=\"-18\" rx=\"27\" ry=\"18\"/>\n<text text-anchor=\"middle\" x=\"207\" y=\"-14.3\" font-family=\"Times,serif\" font-size=\"14.00\">T</text>\n</g>\n<!-- Y -->\n<g id=\"node2\" class=\"node\">\n<title>Y</title>\n<ellipse fill=\"none\" stroke=\"black\" cx=\"297\" cy=\"-41\" rx=\"27\" ry=\"18\"/>\n<text text-anchor=\"middle\" x=\"297\" y=\"-37.3\" font-family=\"Times,serif\" font-size=\"14.00\">Y</text>\n</g>\n<!-- T&#45;&gt;Y -->\n<g id=\"edge1\" class=\"edge\">\n<title>T&#45;&gt;Y</title>\n<path fill=\"none\" stroke=\"black\" d=\"M232.51,-24.41C241.57,-26.77 252.01,-29.5 261.78,-32.05\"/>\n<polygon fill=\"black\" stroke=\"black\" points=\"261.06,-35.49 271.62,-34.63 262.83,-28.71 261.06,-35.49\"/>\n</g>\n<!-- X -->\n<g id=\"node3\" class=\"node\">\n<title>X</title>\n<ellipse fill=\"none\" stroke=\"black\" cx=\"27\" cy=\"-41\" rx=\"27\" ry=\"18\"/>\n<text text-anchor=\"middle\" x=\"27\" y=\"-37.3\" font-family=\"Times,serif\" font-size=\"14.00\">X</text>\n</g>\n<!-- X&#45;&gt;Y -->\n<g id=\"edge2\" class=\"edge\">\n<title>X&#45;&gt;Y</title>\n<path fill=\"none\" stroke=\"black\" d=\"M53.92,-43.05C65.03,-43.83 78.14,-44.62 90,-45 153.97,-47.06 170.03,-47.06 234,-45 242.43,-44.73 251.5,-44.25 260.02,-43.72\"/>\n<polygon fill=\"black\" stroke=\"black\" points=\"260.33,-47.2 270.08,-43.05 259.87,-40.22 260.33,-47.2\"/>\n</g>\n<!-- e(x) -->\n<g id=\"node4\" class=\"node\">\n<title>e(x)</title>\n<ellipse fill=\"none\" stroke=\"black\" cx=\"117\" cy=\"-18\" rx=\"27\" ry=\"18\"/>\n<text text-anchor=\"middle\" x=\"117\" y=\"-14.3\" font-family=\"Times,serif\" font-size=\"14.00\">e(x)</text>\n</g>\n<!-- X&#45;&gt;e(x) -->\n<g id=\"edge3\" class=\"edge\">\n<title>X&#45;&gt;e(x)</title>\n<path fill=\"none\" stroke=\"black\" d=\"M52.51,-34.59C61.57,-32.23 72.01,-29.5 81.78,-26.95\"/>\n<polygon fill=\"black\" stroke=\"black\" points=\"82.83,-30.29 91.62,-24.37 81.06,-23.51 82.83,-30.29\"/>\n</g>\n<!-- e(x)&#45;&gt;T -->\n<g id=\"edge4\" class=\"edge\">\n<title>e(x)&#45;&gt;T</title>\n<path fill=\"none\" stroke=\"black\" d=\"M144.4,-18C152.39,-18 161.31,-18 169.82,-18\"/>\n<polygon fill=\"black\" stroke=\"black\" points=\"169.92,-21.5 179.92,-18 169.92,-14.5 169.92,-21.5\"/>\n</g>\n</g>\n</svg>\n",
            "text/plain": [
              "<graphviz.graphs.Digraph at 0x7802a3583160>"
            ]
          },
          "metadata": {},
          "execution_count": 7
        }
      ]
    },
    {
      "cell_type": "code",
      "source": [
        "#owing to binary variable, we need to use logit regression\n",
        "ps_estimate=smf.logit(\"\"\"\n",
        "                      intervention~tenure +\n",
        "                      last_engagement_score + department_score+\n",
        "                      C(n_of_reports) + C(gender) + C(role)\"\"\", data=df1).fit(disp=0) #disp=0:不显示regression的summary"
      ],
      "metadata": {
        "id": "M2HHBc6iX-ng"
      },
      "execution_count": 8,
      "outputs": []
    },
    {
      "cell_type": "code",
      "source": [
        "#make the prediction\n",
        "df_ps=df1.assign(propensity_score=ps_estimate.predict(df1))\n",
        "df_ps.head()"
      ],
      "metadata": {
        "colab": {
          "base_uri": "https://localhost:8080/",
          "height": 241
        },
        "id": "LmYygipzYzyq",
        "outputId": "8d3fd3d4-0207-4432-c23f-7a2facb8a105"
      },
      "execution_count": 9,
      "outputs": [
        {
          "output_type": "execute_result",
          "data": {
            "text/plain": [
              "   departament_id  intervention  engagement_score  tenure  n_of_reports  \\\n",
              "0              76             1          0.277359       6             4   \n",
              "1              76             1         -0.449646       4             8   \n",
              "2              76             1          0.769703       6             4   \n",
              "3              76             1         -0.121763       6             4   \n",
              "4              76             1          1.526147       6             4   \n",
              "\n",
              "   gender  role  last_engagement_score  department_score  department_size  \\\n",
              "0       2     4               0.614261          0.224077              843   \n",
              "1       2     4               0.069636          0.224077              843   \n",
              "2       2     4               0.866918          0.224077              843   \n",
              "3       2     4               0.029071          0.224077              843   \n",
              "4       1     4               0.589857          0.224077              843   \n",
              "\n",
              "   propensity_score  \n",
              "0          0.596106  \n",
              "1          0.391138  \n",
              "2          0.602578  \n",
              "3          0.580990  \n",
              "4          0.619976  "
            ],
            "text/html": [
              "\n",
              "  <div id=\"df-5d3564b3-a6b7-47aa-8351-bb69d507aef9\" class=\"colab-df-container\">\n",
              "    <div>\n",
              "<style scoped>\n",
              "    .dataframe tbody tr th:only-of-type {\n",
              "        vertical-align: middle;\n",
              "    }\n",
              "\n",
              "    .dataframe tbody tr th {\n",
              "        vertical-align: top;\n",
              "    }\n",
              "\n",
              "    .dataframe thead th {\n",
              "        text-align: right;\n",
              "    }\n",
              "</style>\n",
              "<table border=\"1\" class=\"dataframe\">\n",
              "  <thead>\n",
              "    <tr style=\"text-align: right;\">\n",
              "      <th></th>\n",
              "      <th>departament_id</th>\n",
              "      <th>intervention</th>\n",
              "      <th>engagement_score</th>\n",
              "      <th>tenure</th>\n",
              "      <th>n_of_reports</th>\n",
              "      <th>gender</th>\n",
              "      <th>role</th>\n",
              "      <th>last_engagement_score</th>\n",
              "      <th>department_score</th>\n",
              "      <th>department_size</th>\n",
              "      <th>propensity_score</th>\n",
              "    </tr>\n",
              "  </thead>\n",
              "  <tbody>\n",
              "    <tr>\n",
              "      <th>0</th>\n",
              "      <td>76</td>\n",
              "      <td>1</td>\n",
              "      <td>0.277359</td>\n",
              "      <td>6</td>\n",
              "      <td>4</td>\n",
              "      <td>2</td>\n",
              "      <td>4</td>\n",
              "      <td>0.614261</td>\n",
              "      <td>0.224077</td>\n",
              "      <td>843</td>\n",
              "      <td>0.596106</td>\n",
              "    </tr>\n",
              "    <tr>\n",
              "      <th>1</th>\n",
              "      <td>76</td>\n",
              "      <td>1</td>\n",
              "      <td>-0.449646</td>\n",
              "      <td>4</td>\n",
              "      <td>8</td>\n",
              "      <td>2</td>\n",
              "      <td>4</td>\n",
              "      <td>0.069636</td>\n",
              "      <td>0.224077</td>\n",
              "      <td>843</td>\n",
              "      <td>0.391138</td>\n",
              "    </tr>\n",
              "    <tr>\n",
              "      <th>2</th>\n",
              "      <td>76</td>\n",
              "      <td>1</td>\n",
              "      <td>0.769703</td>\n",
              "      <td>6</td>\n",
              "      <td>4</td>\n",
              "      <td>2</td>\n",
              "      <td>4</td>\n",
              "      <td>0.866918</td>\n",
              "      <td>0.224077</td>\n",
              "      <td>843</td>\n",
              "      <td>0.602578</td>\n",
              "    </tr>\n",
              "    <tr>\n",
              "      <th>3</th>\n",
              "      <td>76</td>\n",
              "      <td>1</td>\n",
              "      <td>-0.121763</td>\n",
              "      <td>6</td>\n",
              "      <td>4</td>\n",
              "      <td>2</td>\n",
              "      <td>4</td>\n",
              "      <td>0.029071</td>\n",
              "      <td>0.224077</td>\n",
              "      <td>843</td>\n",
              "      <td>0.580990</td>\n",
              "    </tr>\n",
              "    <tr>\n",
              "      <th>4</th>\n",
              "      <td>76</td>\n",
              "      <td>1</td>\n",
              "      <td>1.526147</td>\n",
              "      <td>6</td>\n",
              "      <td>4</td>\n",
              "      <td>1</td>\n",
              "      <td>4</td>\n",
              "      <td>0.589857</td>\n",
              "      <td>0.224077</td>\n",
              "      <td>843</td>\n",
              "      <td>0.619976</td>\n",
              "    </tr>\n",
              "  </tbody>\n",
              "</table>\n",
              "</div>\n",
              "    <div class=\"colab-df-buttons\">\n",
              "\n",
              "  <div class=\"colab-df-container\">\n",
              "    <button class=\"colab-df-convert\" onclick=\"convertToInteractive('df-5d3564b3-a6b7-47aa-8351-bb69d507aef9')\"\n",
              "            title=\"Convert this dataframe to an interactive table.\"\n",
              "            style=\"display:none;\">\n",
              "\n",
              "  <svg xmlns=\"http://www.w3.org/2000/svg\" height=\"24px\" viewBox=\"0 -960 960 960\">\n",
              "    <path d=\"M120-120v-720h720v720H120Zm60-500h600v-160H180v160Zm220 220h160v-160H400v160Zm0 220h160v-160H400v160ZM180-400h160v-160H180v160Zm440 0h160v-160H620v160ZM180-180h160v-160H180v160Zm440 0h160v-160H620v160Z\"/>\n",
              "  </svg>\n",
              "    </button>\n",
              "\n",
              "  <style>\n",
              "    .colab-df-container {\n",
              "      display:flex;\n",
              "      gap: 12px;\n",
              "    }\n",
              "\n",
              "    .colab-df-convert {\n",
              "      background-color: #E8F0FE;\n",
              "      border: none;\n",
              "      border-radius: 50%;\n",
              "      cursor: pointer;\n",
              "      display: none;\n",
              "      fill: #1967D2;\n",
              "      height: 32px;\n",
              "      padding: 0 0 0 0;\n",
              "      width: 32px;\n",
              "    }\n",
              "\n",
              "    .colab-df-convert:hover {\n",
              "      background-color: #E2EBFA;\n",
              "      box-shadow: 0px 1px 2px rgba(60, 64, 67, 0.3), 0px 1px 3px 1px rgba(60, 64, 67, 0.15);\n",
              "      fill: #174EA6;\n",
              "    }\n",
              "\n",
              "    .colab-df-buttons div {\n",
              "      margin-bottom: 4px;\n",
              "    }\n",
              "\n",
              "    [theme=dark] .colab-df-convert {\n",
              "      background-color: #3B4455;\n",
              "      fill: #D2E3FC;\n",
              "    }\n",
              "\n",
              "    [theme=dark] .colab-df-convert:hover {\n",
              "      background-color: #434B5C;\n",
              "      box-shadow: 0px 1px 3px 1px rgba(0, 0, 0, 0.15);\n",
              "      filter: drop-shadow(0px 1px 2px rgba(0, 0, 0, 0.3));\n",
              "      fill: #FFFFFF;\n",
              "    }\n",
              "  </style>\n",
              "\n",
              "    <script>\n",
              "      const buttonEl =\n",
              "        document.querySelector('#df-5d3564b3-a6b7-47aa-8351-bb69d507aef9 button.colab-df-convert');\n",
              "      buttonEl.style.display =\n",
              "        google.colab.kernel.accessAllowed ? 'block' : 'none';\n",
              "\n",
              "      async function convertToInteractive(key) {\n",
              "        const element = document.querySelector('#df-5d3564b3-a6b7-47aa-8351-bb69d507aef9');\n",
              "        const dataTable =\n",
              "          await google.colab.kernel.invokeFunction('convertToInteractive',\n",
              "                                                    [key], {});\n",
              "        if (!dataTable) return;\n",
              "\n",
              "        const docLinkHtml = 'Like what you see? Visit the ' +\n",
              "          '<a target=\"_blank\" href=https://colab.research.google.com/notebooks/data_table.ipynb>data table notebook</a>'\n",
              "          + ' to learn more about interactive tables.';\n",
              "        element.innerHTML = '';\n",
              "        dataTable['output_type'] = 'display_data';\n",
              "        await google.colab.output.renderOutput(dataTable, element);\n",
              "        const docLink = document.createElement('div');\n",
              "        docLink.innerHTML = docLinkHtml;\n",
              "        element.appendChild(docLink);\n",
              "      }\n",
              "    </script>\n",
              "  </div>\n",
              "\n",
              "\n",
              "<div id=\"df-816b34c2-04a3-4090-b1c8-fbef3fb93f9c\">\n",
              "  <button class=\"colab-df-quickchart\" onclick=\"quickchart('df-816b34c2-04a3-4090-b1c8-fbef3fb93f9c')\"\n",
              "            title=\"Suggest charts\"\n",
              "            style=\"display:none;\">\n",
              "\n",
              "<svg xmlns=\"http://www.w3.org/2000/svg\" height=\"24px\"viewBox=\"0 0 24 24\"\n",
              "     width=\"24px\">\n",
              "    <g>\n",
              "        <path d=\"M19 3H5c-1.1 0-2 .9-2 2v14c0 1.1.9 2 2 2h14c1.1 0 2-.9 2-2V5c0-1.1-.9-2-2-2zM9 17H7v-7h2v7zm4 0h-2V7h2v10zm4 0h-2v-4h2v4z\"/>\n",
              "    </g>\n",
              "</svg>\n",
              "  </button>\n",
              "\n",
              "<style>\n",
              "  .colab-df-quickchart {\n",
              "      --bg-color: #E8F0FE;\n",
              "      --fill-color: #1967D2;\n",
              "      --hover-bg-color: #E2EBFA;\n",
              "      --hover-fill-color: #174EA6;\n",
              "      --disabled-fill-color: #AAA;\n",
              "      --disabled-bg-color: #DDD;\n",
              "  }\n",
              "\n",
              "  [theme=dark] .colab-df-quickchart {\n",
              "      --bg-color: #3B4455;\n",
              "      --fill-color: #D2E3FC;\n",
              "      --hover-bg-color: #434B5C;\n",
              "      --hover-fill-color: #FFFFFF;\n",
              "      --disabled-bg-color: #3B4455;\n",
              "      --disabled-fill-color: #666;\n",
              "  }\n",
              "\n",
              "  .colab-df-quickchart {\n",
              "    background-color: var(--bg-color);\n",
              "    border: none;\n",
              "    border-radius: 50%;\n",
              "    cursor: pointer;\n",
              "    display: none;\n",
              "    fill: var(--fill-color);\n",
              "    height: 32px;\n",
              "    padding: 0;\n",
              "    width: 32px;\n",
              "  }\n",
              "\n",
              "  .colab-df-quickchart:hover {\n",
              "    background-color: var(--hover-bg-color);\n",
              "    box-shadow: 0 1px 2px rgba(60, 64, 67, 0.3), 0 1px 3px 1px rgba(60, 64, 67, 0.15);\n",
              "    fill: var(--button-hover-fill-color);\n",
              "  }\n",
              "\n",
              "  .colab-df-quickchart-complete:disabled,\n",
              "  .colab-df-quickchart-complete:disabled:hover {\n",
              "    background-color: var(--disabled-bg-color);\n",
              "    fill: var(--disabled-fill-color);\n",
              "    box-shadow: none;\n",
              "  }\n",
              "\n",
              "  .colab-df-spinner {\n",
              "    border: 2px solid var(--fill-color);\n",
              "    border-color: transparent;\n",
              "    border-bottom-color: var(--fill-color);\n",
              "    animation:\n",
              "      spin 1s steps(1) infinite;\n",
              "  }\n",
              "\n",
              "  @keyframes spin {\n",
              "    0% {\n",
              "      border-color: transparent;\n",
              "      border-bottom-color: var(--fill-color);\n",
              "      border-left-color: var(--fill-color);\n",
              "    }\n",
              "    20% {\n",
              "      border-color: transparent;\n",
              "      border-left-color: var(--fill-color);\n",
              "      border-top-color: var(--fill-color);\n",
              "    }\n",
              "    30% {\n",
              "      border-color: transparent;\n",
              "      border-left-color: var(--fill-color);\n",
              "      border-top-color: var(--fill-color);\n",
              "      border-right-color: var(--fill-color);\n",
              "    }\n",
              "    40% {\n",
              "      border-color: transparent;\n",
              "      border-right-color: var(--fill-color);\n",
              "      border-top-color: var(--fill-color);\n",
              "    }\n",
              "    60% {\n",
              "      border-color: transparent;\n",
              "      border-right-color: var(--fill-color);\n",
              "    }\n",
              "    80% {\n",
              "      border-color: transparent;\n",
              "      border-right-color: var(--fill-color);\n",
              "      border-bottom-color: var(--fill-color);\n",
              "    }\n",
              "    90% {\n",
              "      border-color: transparent;\n",
              "      border-bottom-color: var(--fill-color);\n",
              "    }\n",
              "  }\n",
              "</style>\n",
              "\n",
              "  <script>\n",
              "    async function quickchart(key) {\n",
              "      const quickchartButtonEl =\n",
              "        document.querySelector('#' + key + ' button');\n",
              "      quickchartButtonEl.disabled = true;  // To prevent multiple clicks.\n",
              "      quickchartButtonEl.classList.add('colab-df-spinner');\n",
              "      try {\n",
              "        const charts = await google.colab.kernel.invokeFunction(\n",
              "            'suggestCharts', [key], {});\n",
              "      } catch (error) {\n",
              "        console.error('Error during call to suggestCharts:', error);\n",
              "      }\n",
              "      quickchartButtonEl.classList.remove('colab-df-spinner');\n",
              "      quickchartButtonEl.classList.add('colab-df-quickchart-complete');\n",
              "    }\n",
              "    (() => {\n",
              "      let quickchartButtonEl =\n",
              "        document.querySelector('#df-816b34c2-04a3-4090-b1c8-fbef3fb93f9c button');\n",
              "      quickchartButtonEl.style.display =\n",
              "        google.colab.kernel.accessAllowed ? 'block' : 'none';\n",
              "    })();\n",
              "  </script>\n",
              "</div>\n",
              "    </div>\n",
              "  </div>\n"
            ]
          },
          "metadata": {},
          "execution_count": 9
        }
      ]
    },
    {
      "cell_type": "markdown",
      "source": [
        "### Orthogonalization"
      ],
      "metadata": {
        "id": "JqDT27z_Zwca"
      }
    },
    {
      "cell_type": "code",
      "source": [
        "model1=smf.ols(\"\"\"engagement_score~intervention+propensity_score\"\"\", data=df_ps).fit()\n",
        "model1.params[\"intervention\"]"
      ],
      "metadata": {
        "colab": {
          "base_uri": "https://localhost:8080/"
        },
        "id": "xwMR682sZ310",
        "outputId": "f72ce3c6-c1c0-465c-a748-957b8e6f5e2b"
      },
      "execution_count": 10,
      "outputs": [
        {
          "output_type": "execute_result",
          "data": {
            "text/plain": [
              "0.2633126749027707"
            ]
          },
          "metadata": {},
          "execution_count": 10
        }
      ]
    },
    {
      "cell_type": "markdown",
      "source": [
        "- The result is very similar to ATE estimated one.(0.2633≈0.26779) There are two alternative methods to adjust for confounders."
      ],
      "metadata": {
        "id": "EhK6ozbMafke"
      }
    },
    {
      "cell_type": "markdown",
      "source": [
        "### Propensity Score Matching\n",
        "\n",
        "- Get the *pairs of units* with similar observable characteristics, and compare the outcomes of who recieved the treatment to who did not\n",
        "- 使用条件：\n",
        "  - sample量尽可能的大，这样可以找到匹配度高的样本\n",
        "  - 控制组和实验组的倾向得分有大面积的重合部分\n"
      ],
      "metadata": {
        "id": "8DXPbGZgbM2s"
      }
    },
    {
      "cell_type": "code",
      "source": [
        "#使用临近匹配\n",
        "from sklearn.neighbors import KNeighborsRegressor\n",
        "T=\"intervention\"\n",
        "X=\"propensity_score\"\n",
        "Y=\"engagement_score\"\n",
        "treated=df_ps.query(f\"{T}==1\")\n",
        "untreated=df_ps.query(f\"{T}==0\")\n",
        "m0=KNeighborsRegressor(n_neighbors=1).fit(untreated[[X]], untreated[Y])\n",
        "m1=KNeighborsRegressor(n_neighbors=1).fit(treated[[X]], treated[Y])\n",
        "prediction=pd.concat([treated.assign(match=m0.predict(treated[[X]])),\n",
        "                     untreated.assign(match=m1.predict(untreated[[X]]))])\n",
        "prediction.head()"
      ],
      "metadata": {
        "colab": {
          "base_uri": "https://localhost:8080/",
          "height": 241
        },
        "id": "NThJr6qRbMX4",
        "outputId": "b480cd3e-7a70-4a2c-f63d-db44449131bc"
      },
      "execution_count": 11,
      "outputs": [
        {
          "output_type": "execute_result",
          "data": {
            "text/plain": [
              "   departament_id  intervention  engagement_score  tenure  n_of_reports  \\\n",
              "0              76             1          0.277359       6             4   \n",
              "1              76             1         -0.449646       4             8   \n",
              "2              76             1          0.769703       6             4   \n",
              "3              76             1         -0.121763       6             4   \n",
              "4              76             1          1.526147       6             4   \n",
              "\n",
              "   gender  role  last_engagement_score  department_score  department_size  \\\n",
              "0       2     4               0.614261          0.224077              843   \n",
              "1       2     4               0.069636          0.224077              843   \n",
              "2       2     4               0.866918          0.224077              843   \n",
              "3       2     4               0.029071          0.224077              843   \n",
              "4       1     4               0.589857          0.224077              843   \n",
              "\n",
              "   propensity_score     match  \n",
              "0          0.596106  0.557680  \n",
              "1          0.391138 -0.952622  \n",
              "2          0.602578 -0.618381  \n",
              "3          0.580990 -1.404962  \n",
              "4          0.619976  0.000354  "
            ],
            "text/html": [
              "\n",
              "  <div id=\"df-5ea800de-c1a9-4071-a474-f7b13cbd175e\" class=\"colab-df-container\">\n",
              "    <div>\n",
              "<style scoped>\n",
              "    .dataframe tbody tr th:only-of-type {\n",
              "        vertical-align: middle;\n",
              "    }\n",
              "\n",
              "    .dataframe tbody tr th {\n",
              "        vertical-align: top;\n",
              "    }\n",
              "\n",
              "    .dataframe thead th {\n",
              "        text-align: right;\n",
              "    }\n",
              "</style>\n",
              "<table border=\"1\" class=\"dataframe\">\n",
              "  <thead>\n",
              "    <tr style=\"text-align: right;\">\n",
              "      <th></th>\n",
              "      <th>departament_id</th>\n",
              "      <th>intervention</th>\n",
              "      <th>engagement_score</th>\n",
              "      <th>tenure</th>\n",
              "      <th>n_of_reports</th>\n",
              "      <th>gender</th>\n",
              "      <th>role</th>\n",
              "      <th>last_engagement_score</th>\n",
              "      <th>department_score</th>\n",
              "      <th>department_size</th>\n",
              "      <th>propensity_score</th>\n",
              "      <th>match</th>\n",
              "    </tr>\n",
              "  </thead>\n",
              "  <tbody>\n",
              "    <tr>\n",
              "      <th>0</th>\n",
              "      <td>76</td>\n",
              "      <td>1</td>\n",
              "      <td>0.277359</td>\n",
              "      <td>6</td>\n",
              "      <td>4</td>\n",
              "      <td>2</td>\n",
              "      <td>4</td>\n",
              "      <td>0.614261</td>\n",
              "      <td>0.224077</td>\n",
              "      <td>843</td>\n",
              "      <td>0.596106</td>\n",
              "      <td>0.557680</td>\n",
              "    </tr>\n",
              "    <tr>\n",
              "      <th>1</th>\n",
              "      <td>76</td>\n",
              "      <td>1</td>\n",
              "      <td>-0.449646</td>\n",
              "      <td>4</td>\n",
              "      <td>8</td>\n",
              "      <td>2</td>\n",
              "      <td>4</td>\n",
              "      <td>0.069636</td>\n",
              "      <td>0.224077</td>\n",
              "      <td>843</td>\n",
              "      <td>0.391138</td>\n",
              "      <td>-0.952622</td>\n",
              "    </tr>\n",
              "    <tr>\n",
              "      <th>2</th>\n",
              "      <td>76</td>\n",
              "      <td>1</td>\n",
              "      <td>0.769703</td>\n",
              "      <td>6</td>\n",
              "      <td>4</td>\n",
              "      <td>2</td>\n",
              "      <td>4</td>\n",
              "      <td>0.866918</td>\n",
              "      <td>0.224077</td>\n",
              "      <td>843</td>\n",
              "      <td>0.602578</td>\n",
              "      <td>-0.618381</td>\n",
              "    </tr>\n",
              "    <tr>\n",
              "      <th>3</th>\n",
              "      <td>76</td>\n",
              "      <td>1</td>\n",
              "      <td>-0.121763</td>\n",
              "      <td>6</td>\n",
              "      <td>4</td>\n",
              "      <td>2</td>\n",
              "      <td>4</td>\n",
              "      <td>0.029071</td>\n",
              "      <td>0.224077</td>\n",
              "      <td>843</td>\n",
              "      <td>0.580990</td>\n",
              "      <td>-1.404962</td>\n",
              "    </tr>\n",
              "    <tr>\n",
              "      <th>4</th>\n",
              "      <td>76</td>\n",
              "      <td>1</td>\n",
              "      <td>1.526147</td>\n",
              "      <td>6</td>\n",
              "      <td>4</td>\n",
              "      <td>1</td>\n",
              "      <td>4</td>\n",
              "      <td>0.589857</td>\n",
              "      <td>0.224077</td>\n",
              "      <td>843</td>\n",
              "      <td>0.619976</td>\n",
              "      <td>0.000354</td>\n",
              "    </tr>\n",
              "  </tbody>\n",
              "</table>\n",
              "</div>\n",
              "    <div class=\"colab-df-buttons\">\n",
              "\n",
              "  <div class=\"colab-df-container\">\n",
              "    <button class=\"colab-df-convert\" onclick=\"convertToInteractive('df-5ea800de-c1a9-4071-a474-f7b13cbd175e')\"\n",
              "            title=\"Convert this dataframe to an interactive table.\"\n",
              "            style=\"display:none;\">\n",
              "\n",
              "  <svg xmlns=\"http://www.w3.org/2000/svg\" height=\"24px\" viewBox=\"0 -960 960 960\">\n",
              "    <path d=\"M120-120v-720h720v720H120Zm60-500h600v-160H180v160Zm220 220h160v-160H400v160Zm0 220h160v-160H400v160ZM180-400h160v-160H180v160Zm440 0h160v-160H620v160ZM180-180h160v-160H180v160Zm440 0h160v-160H620v160Z\"/>\n",
              "  </svg>\n",
              "    </button>\n",
              "\n",
              "  <style>\n",
              "    .colab-df-container {\n",
              "      display:flex;\n",
              "      gap: 12px;\n",
              "    }\n",
              "\n",
              "    .colab-df-convert {\n",
              "      background-color: #E8F0FE;\n",
              "      border: none;\n",
              "      border-radius: 50%;\n",
              "      cursor: pointer;\n",
              "      display: none;\n",
              "      fill: #1967D2;\n",
              "      height: 32px;\n",
              "      padding: 0 0 0 0;\n",
              "      width: 32px;\n",
              "    }\n",
              "\n",
              "    .colab-df-convert:hover {\n",
              "      background-color: #E2EBFA;\n",
              "      box-shadow: 0px 1px 2px rgba(60, 64, 67, 0.3), 0px 1px 3px 1px rgba(60, 64, 67, 0.15);\n",
              "      fill: #174EA6;\n",
              "    }\n",
              "\n",
              "    .colab-df-buttons div {\n",
              "      margin-bottom: 4px;\n",
              "    }\n",
              "\n",
              "    [theme=dark] .colab-df-convert {\n",
              "      background-color: #3B4455;\n",
              "      fill: #D2E3FC;\n",
              "    }\n",
              "\n",
              "    [theme=dark] .colab-df-convert:hover {\n",
              "      background-color: #434B5C;\n",
              "      box-shadow: 0px 1px 3px 1px rgba(0, 0, 0, 0.15);\n",
              "      filter: drop-shadow(0px 1px 2px rgba(0, 0, 0, 0.3));\n",
              "      fill: #FFFFFF;\n",
              "    }\n",
              "  </style>\n",
              "\n",
              "    <script>\n",
              "      const buttonEl =\n",
              "        document.querySelector('#df-5ea800de-c1a9-4071-a474-f7b13cbd175e button.colab-df-convert');\n",
              "      buttonEl.style.display =\n",
              "        google.colab.kernel.accessAllowed ? 'block' : 'none';\n",
              "\n",
              "      async function convertToInteractive(key) {\n",
              "        const element = document.querySelector('#df-5ea800de-c1a9-4071-a474-f7b13cbd175e');\n",
              "        const dataTable =\n",
              "          await google.colab.kernel.invokeFunction('convertToInteractive',\n",
              "                                                    [key], {});\n",
              "        if (!dataTable) return;\n",
              "\n",
              "        const docLinkHtml = 'Like what you see? Visit the ' +\n",
              "          '<a target=\"_blank\" href=https://colab.research.google.com/notebooks/data_table.ipynb>data table notebook</a>'\n",
              "          + ' to learn more about interactive tables.';\n",
              "        element.innerHTML = '';\n",
              "        dataTable['output_type'] = 'display_data';\n",
              "        await google.colab.output.renderOutput(dataTable, element);\n",
              "        const docLink = document.createElement('div');\n",
              "        docLink.innerHTML = docLinkHtml;\n",
              "        element.appendChild(docLink);\n",
              "      }\n",
              "    </script>\n",
              "  </div>\n",
              "\n",
              "\n",
              "<div id=\"df-d0c41e07-d329-49a4-9e04-917e164c62c3\">\n",
              "  <button class=\"colab-df-quickchart\" onclick=\"quickchart('df-d0c41e07-d329-49a4-9e04-917e164c62c3')\"\n",
              "            title=\"Suggest charts\"\n",
              "            style=\"display:none;\">\n",
              "\n",
              "<svg xmlns=\"http://www.w3.org/2000/svg\" height=\"24px\"viewBox=\"0 0 24 24\"\n",
              "     width=\"24px\">\n",
              "    <g>\n",
              "        <path d=\"M19 3H5c-1.1 0-2 .9-2 2v14c0 1.1.9 2 2 2h14c1.1 0 2-.9 2-2V5c0-1.1-.9-2-2-2zM9 17H7v-7h2v7zm4 0h-2V7h2v10zm4 0h-2v-4h2v4z\"/>\n",
              "    </g>\n",
              "</svg>\n",
              "  </button>\n",
              "\n",
              "<style>\n",
              "  .colab-df-quickchart {\n",
              "      --bg-color: #E8F0FE;\n",
              "      --fill-color: #1967D2;\n",
              "      --hover-bg-color: #E2EBFA;\n",
              "      --hover-fill-color: #174EA6;\n",
              "      --disabled-fill-color: #AAA;\n",
              "      --disabled-bg-color: #DDD;\n",
              "  }\n",
              "\n",
              "  [theme=dark] .colab-df-quickchart {\n",
              "      --bg-color: #3B4455;\n",
              "      --fill-color: #D2E3FC;\n",
              "      --hover-bg-color: #434B5C;\n",
              "      --hover-fill-color: #FFFFFF;\n",
              "      --disabled-bg-color: #3B4455;\n",
              "      --disabled-fill-color: #666;\n",
              "  }\n",
              "\n",
              "  .colab-df-quickchart {\n",
              "    background-color: var(--bg-color);\n",
              "    border: none;\n",
              "    border-radius: 50%;\n",
              "    cursor: pointer;\n",
              "    display: none;\n",
              "    fill: var(--fill-color);\n",
              "    height: 32px;\n",
              "    padding: 0;\n",
              "    width: 32px;\n",
              "  }\n",
              "\n",
              "  .colab-df-quickchart:hover {\n",
              "    background-color: var(--hover-bg-color);\n",
              "    box-shadow: 0 1px 2px rgba(60, 64, 67, 0.3), 0 1px 3px 1px rgba(60, 64, 67, 0.15);\n",
              "    fill: var(--button-hover-fill-color);\n",
              "  }\n",
              "\n",
              "  .colab-df-quickchart-complete:disabled,\n",
              "  .colab-df-quickchart-complete:disabled:hover {\n",
              "    background-color: var(--disabled-bg-color);\n",
              "    fill: var(--disabled-fill-color);\n",
              "    box-shadow: none;\n",
              "  }\n",
              "\n",
              "  .colab-df-spinner {\n",
              "    border: 2px solid var(--fill-color);\n",
              "    border-color: transparent;\n",
              "    border-bottom-color: var(--fill-color);\n",
              "    animation:\n",
              "      spin 1s steps(1) infinite;\n",
              "  }\n",
              "\n",
              "  @keyframes spin {\n",
              "    0% {\n",
              "      border-color: transparent;\n",
              "      border-bottom-color: var(--fill-color);\n",
              "      border-left-color: var(--fill-color);\n",
              "    }\n",
              "    20% {\n",
              "      border-color: transparent;\n",
              "      border-left-color: var(--fill-color);\n",
              "      border-top-color: var(--fill-color);\n",
              "    }\n",
              "    30% {\n",
              "      border-color: transparent;\n",
              "      border-left-color: var(--fill-color);\n",
              "      border-top-color: var(--fill-color);\n",
              "      border-right-color: var(--fill-color);\n",
              "    }\n",
              "    40% {\n",
              "      border-color: transparent;\n",
              "      border-right-color: var(--fill-color);\n",
              "      border-top-color: var(--fill-color);\n",
              "    }\n",
              "    60% {\n",
              "      border-color: transparent;\n",
              "      border-right-color: var(--fill-color);\n",
              "    }\n",
              "    80% {\n",
              "      border-color: transparent;\n",
              "      border-right-color: var(--fill-color);\n",
              "      border-bottom-color: var(--fill-color);\n",
              "    }\n",
              "    90% {\n",
              "      border-color: transparent;\n",
              "      border-bottom-color: var(--fill-color);\n",
              "    }\n",
              "  }\n",
              "</style>\n",
              "\n",
              "  <script>\n",
              "    async function quickchart(key) {\n",
              "      const quickchartButtonEl =\n",
              "        document.querySelector('#' + key + ' button');\n",
              "      quickchartButtonEl.disabled = true;  // To prevent multiple clicks.\n",
              "      quickchartButtonEl.classList.add('colab-df-spinner');\n",
              "      try {\n",
              "        const charts = await google.colab.kernel.invokeFunction(\n",
              "            'suggestCharts', [key], {});\n",
              "      } catch (error) {\n",
              "        console.error('Error during call to suggestCharts:', error);\n",
              "      }\n",
              "      quickchartButtonEl.classList.remove('colab-df-spinner');\n",
              "      quickchartButtonEl.classList.add('colab-df-quickchart-complete');\n",
              "    }\n",
              "    (() => {\n",
              "      let quickchartButtonEl =\n",
              "        document.querySelector('#df-d0c41e07-d329-49a4-9e04-917e164c62c3 button');\n",
              "      quickchartButtonEl.style.display =\n",
              "        google.colab.kernel.accessAllowed ? 'block' : 'none';\n",
              "    })();\n",
              "  </script>\n",
              "</div>\n",
              "    </div>\n",
              "  </div>\n"
            ]
          },
          "metadata": {},
          "execution_count": 11
        }
      ]
    },
    {
      "cell_type": "markdown",
      "source": [
        "- 1:1对应，每个实验组的个体找到距离最近的那一个控制组的个体进行匹配。未匹配的样本remove掉\n",
        "  - 最终得到匹配的样本比较小，估计方差大，bias小\n",
        "- With a match of each unit, we can estimate ATE: $\\widehat{ATE}=\\frac{1}{N}(Y_i-Y_{jm(i)})T_i+(Y_{jm(i)}-Y_i)(1-T_i)$"
      ],
      "metadata": {
        "id": "6M4Vj5PbhmaB"
      }
    },
    {
      "cell_type": "code",
      "source": [
        "np.mean((prediction[Y]-prediction[\"match\"])*prediction[T]+(prediction[\"match\"]-prediction[Y])*(1-prediction[T]))"
      ],
      "metadata": {
        "colab": {
          "base_uri": "https://localhost:8080/"
        },
        "id": "WJcGH1eaiwpM",
        "outputId": "b8e55707-cce1-4bcd-cad0-3040a5e4d4ca"
      },
      "execution_count": 12,
      "outputs": [
        {
          "output_type": "execute_result",
          "data": {
            "text/plain": [
              "0.28777443474045966"
            ]
          },
          "metadata": {},
          "execution_count": 12
        }
      ]
    },
    {
      "cell_type": "markdown",
      "source": [
        "### Inverse Propensity Weighting(IPW)\n",
        "- formula:$W_i=\\frac{1}{e(X_i)}, when \\space T=1$处理组；$W_i=\\frac{1}{1-e(X_i)},when \\space T=0$对照组\n",
        "  - when $e(X_i)$ is high, both of weights are high.\n",
        "  - Give a high importance to the treated(untreated) that look like the untreated(treated);\n",
        "- 两类样本的加权平均值之差-->平均因果效应的大小 来估算ATE\n",
        "- backwards:当$e(X_i)$无限接近于0或1时，估算的weight会无限大，无法正确估计ATE。"
      ],
      "metadata": {
        "id": "UaepMct9jk0c"
      }
    },
    {
      "cell_type": "code",
      "source": [
        "# ATE estimate\n",
        "weight1=1/df_ps.query('intervention==1')['propensity_score']\n",
        "weight0=1/(1-df_ps.query('intervention==0')['propensity_score'])\n",
        "t1=df_ps.query(\"intervention==1\")[\"engagement_score\"]\n",
        "t0=df_ps.query(\"intervention==0\")[\"engagement_score\"]\n",
        "y1=sum(t1*weight1)/len(df_ps)\n",
        "y0=sum(t0*weight0)/len(df_ps)\n",
        "print(\"weight1:\",weight1)\n",
        "print(\"weight0:\",weight0)\n",
        "print(\"e[Y1]:\", y1)\n",
        "print(\"e[Y0]:\", y0)\n",
        "print(\"ATE\", y1-y0)"
      ],
      "metadata": {
        "colab": {
          "base_uri": "https://localhost:8080/"
        },
        "id": "pfiidVkcGHVd",
        "outputId": "fafdf875-4471-43a3-abe2-54bfb25bb560"
      },
      "execution_count": 14,
      "outputs": [
        {
          "output_type": "stream",
          "name": "stdout",
          "text": [
            "weight1: 0        1.677555\n",
            "1        2.556645\n",
            "2        1.659537\n",
            "3        1.721201\n",
            "4        1.612966\n",
            "           ...   \n",
            "10360    2.908216\n",
            "10371    3.781455\n",
            "10373    1.666140\n",
            "10378    1.796676\n",
            "10390    2.386631\n",
            "Name: propensity_score, Length: 5611, dtype: float64\n",
            "weight0: 3384     2.066716\n",
            "3385     2.099618\n",
            "3386     2.036585\n",
            "3388     2.525249\n",
            "3389     2.397136\n",
            "           ...   \n",
            "10385    1.795484\n",
            "10386    2.489387\n",
            "10387    2.690826\n",
            "10388    1.276783\n",
            "10389    1.878212\n",
            "Name: propensity_score, Length: 4780, dtype: float64\n",
            "e[Y1]: 0.11656317232946718\n",
            "e[Y0]: -0.14941553647814387\n",
            "ATE 0.26597870880761104\n"
          ]
        }
      ]
    },
    {
      "cell_type": "markdown",
      "source": [
        "- The result above is sightly smaller than unweighted one.\n",
        "- ATE simplify expression: $ATE=E[Y\\frac{T-e(x)}{e(x)(1-e(x))}]$"
      ],
      "metadata": {
        "id": "Ai6zyy7mHZ6l"
      }
    },
    {
      "cell_type": "code",
      "source": [
        "# operated as the expression instructs:\n",
        "np.mean(df_ps['engagement_score']*\n",
        "        ((df_ps[\"intervention\"] - df_ps[\"propensity_score\"])\n",
        "        / (df_ps[\"propensity_score\"]*(1-df_ps[\"propensity_score\"]))))"
      ],
      "metadata": {
        "colab": {
          "base_uri": "https://localhost:8080/"
        },
        "id": "a2oazwGLHUxj",
        "outputId": "7eb172ae-540d-476a-ad9a-f8a551435930"
      },
      "execution_count": 15,
      "outputs": [
        {
          "output_type": "execute_result",
          "data": {
            "text/plain": [
              "0.26597870880761104"
            ]
          },
          "metadata": {},
          "execution_count": 15
        }
      ]
    },
    {
      "cell_type": "markdown",
      "source": [
        "- apparently, the result is the same as the previous one."
      ],
      "metadata": {
        "id": "MAHi3k0kIAg_"
      }
    },
    {
      "cell_type": "markdown",
      "source": [
        "### Variance of IPW\n",
        "- Randomly resampling"
      ],
      "metadata": {
        "id": "bVLqpxEADHIm"
      }
    },
    {
      "cell_type": "code",
      "source": [
        "#rewrite IPW calculation in a reusable function\n",
        "#sklearn is much more quicker than statsmodels\n",
        "#use dmatrix to calculate covariance\n",
        "from sklearn.linear_model import LogisticRegression\n",
        "!pip install patsy\n",
        "from patsy import dmatrix\n",
        "\n",
        "def estimate_ATE_with_ps(data, ps_formula, T, Y):\n",
        "  X=dmatrix(ps_formula, data)\n",
        "  ps_model=LogisticRegression(penalty='none', max_iter=1000).fit(X, data[T])\n",
        "  ps=ps_model.predict_proba(X)[:,1] #do not output binary results, we need a probability format instead.\n",
        "  #The output is a two column matrix, we only want the second column, namely, when T=1.\n",
        "  return np.mean((data[T]-ps)/(ps*(1-ps))*data[Y])"
      ],
      "metadata": {
        "colab": {
          "base_uri": "https://localhost:8080/"
        },
        "id": "YtT4AVO0L6yo",
        "outputId": "f8b4a3d6-ffd7-4956-9c04-8f9c89e0336d"
      },
      "execution_count": 16,
      "outputs": [
        {
          "output_type": "stream",
          "name": "stdout",
          "text": [
            "Requirement already satisfied: patsy in /usr/local/lib/python3.10/dist-packages (0.5.4)\n",
            "Requirement already satisfied: six in /usr/local/lib/python3.10/dist-packages (from patsy) (1.16.0)\n",
            "Requirement already satisfied: numpy>=1.4 in /usr/local/lib/python3.10/dist-packages (from patsy) (1.23.5)\n"
          ]
        }
      ]
    },
    {
      "cell_type": "code",
      "source": [
        "#use the function\n",
        "formula=\"\"\"\n",
        "        C(n_of_reports)+C(gender)+C(role)+tenure+last_engagement_score+department_score\n",
        "        \"\"\"\n",
        "T='intervention'\n",
        "Y='engagement_score'\n",
        "estimate_ATE_with_ps(df1, formula, T, Y)"
      ],
      "metadata": {
        "colab": {
          "base_uri": "https://localhost:8080/"
        },
        "id": "v2FPLTF2UFgF",
        "outputId": "3f867f07-2f9b-4deb-9721-ca7986edf0f0"
      },
      "execution_count": 17,
      "outputs": [
        {
          "output_type": "stream",
          "name": "stderr",
          "text": [
            "/usr/local/lib/python3.10/dist-packages/sklearn/linear_model/_logistic.py:1173: FutureWarning: `penalty='none'`has been deprecated in 1.2 and will be removed in 1.4. To keep the past behaviour, set `penalty=None`.\n",
            "  warnings.warn(\n"
          ]
        },
        {
          "output_type": "execute_result",
          "data": {
            "text/plain": [
              "0.2659370590651038"
            ]
          },
          "metadata": {},
          "execution_count": 17
        }
      ]
    },
    {
      "cell_type": "code",
      "source": [
        "#to speed up, we need to run the bootstrap resampling in parallel with CPU\n",
        "#CI=[0.025, 0.975]\n",
        "from joblib import Parallel, delayed\n",
        "def bootstrap(data, estimation_function, rounds=200, seed=123, pcts=[2.5, 97.5]):\n",
        "  np.random.seed(seed)\n",
        "  parallel=Parallel(n_jobs=5)(delayed(estimation_function)(data.sample(frac=1, replace=True))\n",
        "                              for _ in range(rounds))\n",
        "  return np.percentile(parallel, pcts)"
      ],
      "metadata": {
        "id": "Azl2DDFNVaXK"
      },
      "execution_count": 18,
      "outputs": []
    },
    {
      "cell_type": "code",
      "source": [
        "from toolz import partial\n",
        "print(f\"ATE:{estimate_ATE_with_ps(df1, formula, T, Y)}\")\n",
        "estimation_function=partial(estimate_ATE_with_ps, ps_formula=formula, T=T, Y=Y)\n",
        "print(f\"95% Confidence Interval: \", bootstrap(df1, estimation_function))"
      ],
      "metadata": {
        "colab": {
          "base_uri": "https://localhost:8080/"
        },
        "id": "hFleRgDP_hAH",
        "outputId": "4b166810-269e-4926-8188-56cee6d5ccdd"
      },
      "execution_count": 19,
      "outputs": [
        {
          "output_type": "stream",
          "name": "stdout",
          "text": [
            "ATE:0.2659370590651038\n"
          ]
        },
        {
          "output_type": "stream",
          "name": "stderr",
          "text": [
            "/usr/local/lib/python3.10/dist-packages/sklearn/linear_model/_logistic.py:1173: FutureWarning: `penalty='none'`has been deprecated in 1.2 and will be removed in 1.4. To keep the past behaviour, set `penalty=None`.\n",
            "  warnings.warn(\n"
          ]
        },
        {
          "output_type": "stream",
          "name": "stdout",
          "text": [
            "95% Confidence Interval:  [0.22656548 0.30074837]\n"
          ]
        }
      ]
    },
    {
      "cell_type": "markdown",
      "source": [
        "- the previous CI with linear regression is [0.23357751, 0.30200421], which is as wide as one we got above. But the new result is sightly smaller in range than previous one.\n",
        "  - This is because the original data might be gathered confoundedly(not random)."
      ],
      "metadata": {
        "id": "QIntJgG_BSkD"
      }
    },
    {
      "cell_type": "markdown",
      "source": [
        "### Stabilized Propensity Weights\n",
        "- remove bias for IPW, avoiding weights are too large getting counterfactual result.\n",
        "- use marginal probability of the treatment:\n",
        "  - $w=\\frac{P(T=t)}{P(T=t)|X}$\n",
        "  - it reconstructs the pseudo-population, whose effect size equals to sum of weights."
      ],
      "metadata": {
        "id": "EIBomSdIBAnW"
      }
    },
    {
      "cell_type": "code",
      "source": [
        "# sum of treated and untreated weights\n",
        "print('Original Sample Size: ', df_ps.shape[0])\n",
        "print('Treated Pseudo-Population Sample Size: ', sum(weight1))\n",
        "print('Untreated Pseudo-Population Sample Size: ', sum(weight0))"
      ],
      "metadata": {
        "colab": {
          "base_uri": "https://localhost:8080/"
        },
        "id": "TuTbSbN7gzAa",
        "outputId": "8b17e724-fa00-4560-a614-7eac6a644fb6"
      },
      "execution_count": 20,
      "outputs": [
        {
          "output_type": "stream",
          "name": "stdout",
          "text": [
            "Original Sample Size:  10391\n",
            "Treated Pseudo-Population Sample Size:  10435.089079197915\n",
            "Untreated Pseudo-Population Sample Size:  10354.298899788308\n"
          ]
        }
      ]
    },
    {
      "cell_type": "markdown",
      "source": [
        "- The reweighted sample size of two Pseudo-Populations are close to the original one."
      ],
      "metadata": {
        "id": "Jr7b8CX_hrYW"
      }
    },
    {
      "cell_type": "code",
      "source": [
        "t1=df_ps.query('intervention==1')\n",
        "t0=df_ps.query('intervention==0')\n",
        "P_t=df_ps['intervention'].mean()\n",
        "weight_treated_stable=P_t/t1[\"propensity_score\"]\n",
        "weight_untreated_stable=(1-P_t)/(1-t0[\"propensity_score\"])\n",
        "print(\"Treat Size: \", len(t1))\n",
        "print(\"Treated Stable Weight: \", sum(weight_treated_stable))\n",
        "print(\"Control Size: \", len(t0))\n",
        "print(\"Control Stable Weight: \", sum(weight_untreated_stable))"
      ],
      "metadata": {
        "colab": {
          "base_uri": "https://localhost:8080/"
        },
        "id": "7pyzop47Xpgt",
        "outputId": "75042a39-79b1-4554-9b1a-b8691d9afd61"
      },
      "execution_count": 22,
      "outputs": [
        {
          "output_type": "stream",
          "name": "stdout",
          "text": [
            "Treat Size:  5611\n",
            "Treated Stable Weight:  5634.807508745978\n",
            "Control Size:  4780\n",
            "Control Stable Weight:  4763.116999421417\n"
          ]
        }
      ]
    },
    {
      "cell_type": "code",
      "source": [
        "#try to calculate the ATE\n",
        "N_t=len(t1)\n",
        "N_c=len(t0)\n",
        "y1=sum(t1[\"engagement_score\"]*weight_treated_stable)/N_t\n",
        "y0=sum(t0[\"engagement_score\"]*weight_untreated_stable)/N_c\n",
        "print(\"ATE: \", y1-y0)"
      ],
      "metadata": {
        "colab": {
          "base_uri": "https://localhost:8080/"
        },
        "id": "gw78lzQbc5Z2",
        "outputId": "94532639-ed7f-4015-ca83-d253cad2afa4"
      },
      "execution_count": 27,
      "outputs": [
        {
          "output_type": "stream",
          "name": "stdout",
          "text": [
            "ATE:  0.26597870880761065\n"
          ]
        }
      ]
    },
    {
      "cell_type": "markdown",
      "source": [
        "- The Stabilization keeps **the same** ATE result as the calculation after IPW. While, the calculation process will be much more stable."
      ],
      "metadata": {
        "id": "kKBBYNoNdgUG"
      }
    },
    {
      "cell_type": "markdown",
      "source": [
        "### Pseudo-Population\n",
        "- Bias: some units have higher chances to be selected as treated group."
      ],
      "metadata": {
        "id": "DS6tw3Q_dwnp"
      }
    },
    {
      "cell_type": "code",
      "source": [
        "import matplotlib.pyplot as plt\n",
        "import seaborn as sns\n",
        "plt.style.use('fivethirtyeight')\n",
        "marker=['o','v','d','p']\n",
        "linestyle=['-', '--', ':', '-.']"
      ],
      "metadata": {
        "id": "Uhcbunj2Ea1M"
      },
      "execution_count": 24,
      "outputs": []
    },
    {
      "cell_type": "code",
      "source": [
        "fig, (ax1, ax2) = plt.subplots(1, 2, figsize=(12,5), sharex=True, sharey=True)\n",
        "\n",
        "sns.histplot(df_ps.query(\"intervention==0\")[\"propensity_score\"], stat=\"probability\",\n",
        "             label=\"Untreated\", color=\"C0\", bins=40, ax=ax1, alpha=0.7)\n",
        "sns.histplot(df_ps.query(\"intervention==1\")[\"propensity_score\"], stat=\"probability\",\n",
        "             label=\"Treated\", color=\"C2\", alpha=0.7, bins=40, ax=ax1)\n",
        "ax1.set_title(\"Propensity Distribution\")\n",
        "\n",
        "sns.histplot(df_ps.query(\"intervention==0\").assign(w=weight_untreated_stable),\n",
        "             x=\"propensity_score\", stat=\"probability\",\n",
        "             color=\"C0\", weights=\"w\", label=\"Untreated\", bins=40, ax=ax2,  alpha=0.7)\n",
        "sns.histplot(df_ps.query(\"intervention==1\").assign(w=weight_treated_stable),\n",
        "             x=\"propensity_score\", stat=\"probability\",\n",
        "             color=\"C2\", weights=\"w\", label=\"Treated\", bins=40, alpha=0.7, ax=ax2)\n",
        "ax2.set_title(\"Weighted Propensity Distribution\")\n",
        "plt.legend()\n",
        "plt.tight_layout()"
      ],
      "metadata": {
        "id": "cAlOul5BEWuG",
        "colab": {
          "base_uri": "https://localhost:8080/",
          "height": 494
        },
        "outputId": "e32afcaa-6aa3-44fd-883c-cab8cfbff02b"
      },
      "execution_count": 29,
      "outputs": [
        {
          "output_type": "display_data",
          "data": {
            "text/plain": [
              "<Figure size 1200x500 with 2 Axes>"
            ],
            "image/png": "[encoded data removed]"
          },
          "metadata": {}
        }
      ]
    },
    {
      "cell_type": "markdown",
      "source": [
        "- As the second graph with IPW shows that untreated group is a little bit shifting to the right.\n",
        "- After the IPW adjustment, the total variance of $e(x)$ is smaller than before.\n",
        "- The overlap between treated and untreated groups are larger.The randomness gets higher than before. That is, the same chance to be choose as both treated and untreated group is the same."
      ],
      "metadata": {
        "id": "qx1BZkd8eioE"
      }
    },
    {
      "cell_type": "markdown",
      "source": [
        "### Doubly Robust Estimation(DR)\n",
        "- At least one of model- or design-based identification is correct."
      ],
      "metadata": {
        "id": "WH6dIrw6YwNF"
      }
    },
    {
      "cell_type": "markdown",
      "source": [
        "### Generalized Propensity Score for Continuous Treatment"
      ],
      "metadata": {
        "id": "UgYjpK-JY4vh"
      }
    },
    {
      "cell_type": "markdown",
      "source": [
        "### Useful Python Packages\n",
        "- causallib <https://github.com/BiomedSciAI/causallib> , calculate IPW directly\n",
        "- psmatching <https://github.com/rlirey/psmatching>, PSM with evaluation"
      ],
      "metadata": {
        "id": "L_AVo0OLWZ6n"
      }
    }
  ]
}