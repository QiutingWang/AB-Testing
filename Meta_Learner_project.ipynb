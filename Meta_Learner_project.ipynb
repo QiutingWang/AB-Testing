{
  "cells": [
    {
      "cell_type": "markdown",
      "metadata": {
        "id": "SJhY3iZ64bIk"
      },
      "source": [
        "## Meta Learners"
      ]
    },
    {
      "cell_type": "markdown",
      "metadata": {
        "id": "m5kqRXFl4fT1"
      },
      "source": [
        "### Concepts\n"
      ]
    },
    {
      "cell_type": "markdown",
      "metadata": {
        "id": "0pUGcZo6fXp1"
      },
      "source": [
        "#### S-Learner\n",
        "- S stands for 'Single'\n",
        "  - estimate treatment effect using a single machine learning model\n",
        "- Expression:\n",
        "  - $\\hat{\\tau}(x)=E[Y(1)-Y(0)|X=x]$\n",
        "- Put control group and experiment group into the **same** model **at the same time**.\n",
        "- Evaluation:\n",
        "  - Simple to implement, be good at dealing with difference biases\n",
        "  - cannot handle datasets with <u>high dimensional features, imbalanced dataset, and selection bias</u>."
      ]
    },
    {
      "cell_type": "markdown",
      "metadata": {
        "id": "fkv1JiGJffRV"
      },
      "source": [
        "#### T-Learner\n",
        "- T stands for 'Two'\n",
        "  - estimate control group and experiment group with two difference machine learning models **separately**\n",
        "- Expression:\n",
        "  - $\\hat{\\mu_0(x)}=E[Y(0)|X=x]$\n",
        "  - $\\hat{\\mu_1(x)}=E[Y(1)|X=x]$\n",
        "  - $\\hat{\\tau}(x)=\\hat{\\mu_1(x)}-\\hat{\\mu_0(x)}$\n",
        "- Restriction: treatments have to be <u>discrete variables</u>.\n",
        "- Evaluation:\n",
        "  - Two machine learning models cannot learn dataset of each other, contributing to *huge error* when make predictions.\n",
        "    - With learning less dataset, the model performance is more likely to be influenced by some noise."
      ]
    },
    {
      "cell_type": "markdown",
      "metadata": {
        "id": "muh_2HFRfjpX"
      },
      "source": [
        "#### X-Learner\n",
        "- X describes the shape of the training set\n",
        "- Procedures:\n",
        "  - estimate response effect with supervised or regression models with traditional machine learning models:\n",
        "    - $\\hat{\\mu_0(x)}=E[Y(0)|X=x]$\n",
        "    - $\\hat{\\mu_1(x)}=E[Y(1)|X=x]$\n",
        "  - impute treatment effects for both treatment and control groups by gaining difference between true effect and estimated effect:\n",
        "    - $\\hat{D_i ^1}=Y_i ^1-\\hat{\\mu_0(X_i ^1)}$\n",
        "    - $\\hat{D_i ^0}=\\hat{\\mu_0(X_i ^0)}-Y_i ^0$\n",
        "  - CATE estimator with traditional machine learning models:\n",
        "    - $\\hat{\\tau}(x)=g(x)\\hat{\\tau_0}(x)+(1-g(x))\\hat{\\tau_1}(x)$\n",
        "      - $\\hat{\\tau_0}(x)=E[\\hat{D_i ^0}|X=x]$\n",
        "      - $\\hat{\\tau_1}(x)=E[\\hat{D_i ^1}|X=x]$\n",
        "      - $g(x)\\in [0,1]$:weights function, in order to minimize the high variance of $\\hat{\\tau}$\n",
        "        - sometimes, we use propensity score $e(x)$ to get $g(x)$.\n",
        "- Evaluation:\n",
        "  - make efficient use of an unbalanced data, make full use of dataset to extract information"
      ]
    },
    {
      "cell_type": "markdown",
      "metadata": {
        "id": "LrjTLvNPf3IE"
      },
      "source": [
        "#### R-Learner"
      ]
    },
    {
      "cell_type": "markdown",
      "metadata": {
        "id": "vGaYKkssKMZA"
      },
      "source": [
        "### Evaluation Methods"
      ]
    },
    {
      "cell_type": "markdown",
      "metadata": {
        "id": "3XMDr7QBKroP"
      },
      "source": [
        "##### Qini Curve & AUUC\n"
      ]
    },
    {
      "cell_type": "markdown",
      "metadata": {
        "id": "FbON-4OdL68R"
      },
      "source": [
        "## Case Study"
      ]
    },
    {
      "cell_type": "code",
      "execution_count": 4,
      "metadata": {
        "colab": {
          "base_uri": "https://localhost:8080/"
        },
        "id": "G9qLT6sHkw4K",
        "outputId": "ab825088-3601-49fd-b994-0c87246b3683"
      },
      "outputs": [
        {
          "name": "stdout",
          "output_type": "stream",
          "text": [
            "Collecting fklearn\n",
            "  Downloading fklearn-3.0.0-py3-none-any.whl (83 kB)\n",
            "\u001b[2K     \u001b[90m━━━━━━━━━━━━━━━━━━━━━━━━━━━━━━━━━━━━━━━\u001b[0m \u001b[32m83.7/83.7 kB\u001b[0m \u001b[31m240.0 kB/s\u001b[0m eta \u001b[36m0:00:00\u001b[0ma \u001b[36m0:00:01\u001b[0m\n",
            "\u001b[?25hCollecting joblib<2,>=1.3.2 (from fklearn)\n",
            "  Downloading joblib-1.3.2-py3-none-any.whl (302 kB)\n",
            "\u001b[2K     \u001b[90m━━━━━━━━━━━━━━━━━━━━━━━━━━━━━━━━━━━━━\u001b[0m \u001b[32m302.2/302.2 kB\u001b[0m \u001b[31m650.0 kB/s\u001b[0m eta \u001b[36m0:00:00\u001b[0ma \u001b[36m0:00:01\u001b[0m\n",
            "\u001b[?25hCollecting numpy<2,>=1.24.4 (from fklearn)\n",
            "  Downloading numpy-1.24.4-cp38-cp38-macosx_10_9_x86_64.whl (19.8 MB)\n",
            "\u001b[2K     \u001b[90m━━━━━━━━━━━━━━━━━━━━━━━━━━━━━━━━━━━━━━━\u001b[0m \u001b[32m19.8/19.8 MB\u001b[0m \u001b[31m422.1 kB/s\u001b[0m eta \u001b[36m0:00:00\u001b[0m00:01\u001b[0m00:02\u001b[0m\n",
            "\u001b[?25hCollecting pandas<3,>=2 (from fklearn)\n",
            "  Downloading pandas-2.0.3-cp38-cp38-macosx_10_9_x86_64.whl (11.7 MB)\n",
            "\u001b[2K     \u001b[90m━━━━━━━━━━━━━━━━━━━━━━━━━━━━━━━━━━━━━━━\u001b[0m \u001b[32m11.7/11.7 MB\u001b[0m \u001b[31m380.1 kB/s\u001b[0m eta \u001b[36m0:00:00\u001b[0m00:01\u001b[0m00:01\u001b[0m\n",
            "\u001b[?25hRequirement already satisfied: scikit-learn<2,>=1 in /Users/macbookpro/opt/anaconda3/lib/python3.8/site-packages (from fklearn) (1.2.2)\n",
            "Collecting statsmodels<1,>=0.14.0 (from fklearn)\n",
            "  Downloading statsmodels-0.14.1-cp38-cp38-macosx_10_9_x86_64.whl (10.5 MB)\n",
            "\u001b[2K     \u001b[90m━━━━━━━━━━━━━━━━━━━━━━━━━━━━━━━━━━━━━━━\u001b[0m \u001b[32m10.5/10.5 MB\u001b[0m \u001b[31m208.2 kB/s\u001b[0m eta \u001b[36m0:00:00\u001b[0m00:01\u001b[0m00:02\u001b[0m\n",
            "\u001b[?25hRequirement already satisfied: toolz<1,>=0.12.0 in /Users/macbookpro/opt/anaconda3/lib/python3.8/site-packages (from fklearn) (0.12.0)\n",
            "Requirement already satisfied: python-dateutil>=2.8.2 in /Users/macbookpro/opt/anaconda3/lib/python3.8/site-packages (from pandas<3,>=2->fklearn) (2.8.2)\n",
            "Requirement already satisfied: pytz>=2020.1 in /Users/macbookpro/opt/anaconda3/lib/python3.8/site-packages (from pandas<3,>=2->fklearn) (2022.7)\n",
            "Collecting tzdata>=2022.1 (from pandas<3,>=2->fklearn)\n",
            "  Downloading tzdata-2024.1-py2.py3-none-any.whl (345 kB)\n",
            "\u001b[2K     \u001b[90m━━━━━━━━━━━━━━━━━━━━━━━━━━━━━━━━━━━━━\u001b[0m \u001b[32m345.4/345.4 kB\u001b[0m \u001b[31m380.7 kB/s\u001b[0m eta \u001b[36m0:00:00\u001b[0ma \u001b[36m0:00:01\u001b[0m\n",
            "\u001b[?25hRequirement already satisfied: scipy>=1.3.2 in /Users/macbookpro/opt/anaconda3/lib/python3.8/site-packages (from scikit-learn<2,>=1->fklearn) (1.7.3)\n",
            "Requirement already satisfied: threadpoolctl>=2.0.0 in /Users/macbookpro/opt/anaconda3/lib/python3.8/site-packages (from scikit-learn<2,>=1->fklearn) (2.2.0)\n",
            "Collecting patsy>=0.5.4 (from statsmodels<1,>=0.14.0->fklearn)\n",
            "  Downloading patsy-0.5.6-py2.py3-none-any.whl (233 kB)\n",
            "\u001b[2K     \u001b[90m━━━━━━━━━━━━━━━━━━━━━━━━━━━━━━━━━━━━━\u001b[0m \u001b[32m233.9/233.9 kB\u001b[0m \u001b[31m444.5 kB/s\u001b[0m eta \u001b[36m0:00:00\u001b[0ma \u001b[36m0:00:01\u001b[0m\n",
            "\u001b[?25hRequirement already satisfied: packaging>=21.3 in /Users/macbookpro/opt/anaconda3/lib/python3.8/site-packages (from statsmodels<1,>=0.14.0->fklearn) (23.0)\n",
            "Requirement already satisfied: six in /Users/macbookpro/opt/anaconda3/lib/python3.8/site-packages (from patsy>=0.5.4->statsmodels<1,>=0.14.0->fklearn) (1.16.0)\n",
            "INFO: pip is looking at multiple versions of scipy to determine which version is compatible with other requirements. This could take a while.\n",
            "Collecting scipy>=1.3.2 (from scikit-learn<2,>=1->fklearn)\n",
            "  Downloading scipy-1.10.1-cp38-cp38-macosx_10_9_x86_64.whl (35.0 MB)\n",
            "\u001b[2K     \u001b[90m━━━━━━━━━━━━━━━━━━━━━━━━━━━━━━━━━━━━━━━\u001b[0m \u001b[32m35.0/35.0 MB\u001b[0m \u001b[31m247.4 kB/s\u001b[0m eta \u001b[36m0:00:00\u001b[0m00:01\u001b[0m00:04\u001b[0m\n",
            "\u001b[?25hInstalling collected packages: tzdata, numpy, joblib, scipy, patsy, pandas, statsmodels, fklearn\n",
            "  Attempting uninstall: numpy\n",
            "    Found existing installation: numpy 1.20.1\n",
            "    Uninstalling numpy-1.20.1:\n",
            "      Successfully uninstalled numpy-1.20.1\n",
            "  Attempting uninstall: joblib\n",
            "    Found existing installation: joblib 1.2.0\n",
            "    Uninstalling joblib-1.2.0:\n",
            "      Successfully uninstalled joblib-1.2.0\n",
            "  Attempting uninstall: scipy\n",
            "    Found existing installation: scipy 1.7.3\n",
            "    Uninstalling scipy-1.7.3:\n",
            "      Successfully uninstalled scipy-1.7.3\n",
            "  Attempting uninstall: patsy\n",
            "    Found existing installation: patsy 0.5.3\n",
            "    Uninstalling patsy-0.5.3:\n",
            "      Successfully uninstalled patsy-0.5.3\n",
            "  Attempting uninstall: pandas\n",
            "    Found existing installation: pandas 1.2.4\n",
            "    Uninstalling pandas-1.2.4:\n",
            "      Successfully uninstalled pandas-1.2.4\n",
            "  Attempting uninstall: statsmodels\n",
            "    Found existing installation: statsmodels 0.13.5\n",
            "    Uninstalling statsmodels-0.13.5:\n",
            "      Successfully uninstalled statsmodels-0.13.5\n",
            "Successfully installed fklearn-3.0.0 joblib-1.3.2 numpy-1.24.4 pandas-2.0.3 patsy-0.5.6 scipy-1.10.1 statsmodels-0.14.1 tzdata-2024.1\n",
            "Note: you may need to restart the kernel to use updated packages.\n"
          ]
        }
      ],
      "source": [
        "%pip install fklearn"
      ]
    },
    {
      "cell_type": "code",
      "execution_count": 5,
      "metadata": {
        "colab": {
          "base_uri": "https://localhost:8080/",
          "height": 422
        },
        "id": "7C-FRB0y2Nsi",
        "outputId": "24753996-3551-4ae2-9db8-c837a91622c5"
      },
      "outputs": [],
      "source": [
        "import pandas as pd\n",
        "import numpy as np\n",
        "import matplotlib.pyplot as plt\n",
        "import seaborn as sns\n",
        "from fklearn.causal.validation.curves import relative_cumulative_gain_curve\n",
        "from fklearn.causal.validation.auc import area_under_the_relative_cumulative_gain_curve"
      ]
    },
    {
      "cell_type": "markdown",
      "metadata": {
        "id": "Q379ha6PL4G7"
      },
      "source": [
        "### Meta-Learners with Discrete Treatments"
      ]
    },
    {
      "cell_type": "markdown",
      "metadata": {},
      "source": [
        "- Background:\n",
        "  - We want to know which customers are sensitive to the marketing email, estimating the conditional average treatment effect of an email on customers' future purchase amount.\n",
        "- Datasets:\n",
        "  - customer behavior historical data, huge amount\n",
        "  - randomized, tiny amount"
      ]
    },
    {
      "cell_type": "code",
      "execution_count": 6,
      "metadata": {},
      "outputs": [],
      "source": [
        "#import datasets\n",
        "data_biased=pd.read_csv('/Users/macbookpro/Desktop/email_obs_data.csv')\n",
        "data_random=pd.read_csv('/Users/macbookpro/Desktop/email_rnd_data.csv')"
      ]
    },
    {
      "cell_type": "code",
      "execution_count": 7,
      "metadata": {},
      "outputs": [
        {
          "data": {
            "text/html": [
              "<div>\n",
              "<style scoped>\n",
              "    .dataframe tbody tr th:only-of-type {\n",
              "        vertical-align: middle;\n",
              "    }\n",
              "\n",
              "    .dataframe tbody tr th {\n",
              "        vertical-align: top;\n",
              "    }\n",
              "\n",
              "    .dataframe thead th {\n",
              "        text-align: right;\n",
              "    }\n",
              "</style>\n",
              "<table border=\"1\" class=\"dataframe\">\n",
              "  <thead>\n",
              "    <tr style=\"text-align: right;\">\n",
              "      <th></th>\n",
              "      <th>mkt_email</th>\n",
              "      <th>next_mnth_pv</th>\n",
              "      <th>age</th>\n",
              "      <th>tenure</th>\n",
              "      <th>ammount_spent</th>\n",
              "      <th>vehicle</th>\n",
              "      <th>food</th>\n",
              "      <th>beverage</th>\n",
              "      <th>art</th>\n",
              "      <th>baby</th>\n",
              "      <th>...</th>\n",
              "      <th>electronics</th>\n",
              "      <th>sports</th>\n",
              "      <th>tools</th>\n",
              "      <th>games</th>\n",
              "      <th>industry</th>\n",
              "      <th>pc</th>\n",
              "      <th>jewel</th>\n",
              "      <th>books</th>\n",
              "      <th>music_books_movies</th>\n",
              "      <th>health</th>\n",
              "    </tr>\n",
              "  </thead>\n",
              "  <tbody>\n",
              "    <tr>\n",
              "      <th>0</th>\n",
              "      <td>0</td>\n",
              "      <td>34.38</td>\n",
              "      <td>32.0</td>\n",
              "      <td>0.0</td>\n",
              "      <td>18.05</td>\n",
              "      <td>0</td>\n",
              "      <td>0</td>\n",
              "      <td>1</td>\n",
              "      <td>1</td>\n",
              "      <td>1</td>\n",
              "      <td>...</td>\n",
              "      <td>3</td>\n",
              "      <td>0</td>\n",
              "      <td>1</td>\n",
              "      <td>0</td>\n",
              "      <td>1</td>\n",
              "      <td>2</td>\n",
              "      <td>2</td>\n",
              "      <td>0</td>\n",
              "      <td>1</td>\n",
              "      <td>1</td>\n",
              "    </tr>\n",
              "    <tr>\n",
              "      <th>1</th>\n",
              "      <td>0</td>\n",
              "      <td>183.14</td>\n",
              "      <td>23.0</td>\n",
              "      <td>1.0</td>\n",
              "      <td>182.97</td>\n",
              "      <td>0</td>\n",
              "      <td>0</td>\n",
              "      <td>0</td>\n",
              "      <td>1</td>\n",
              "      <td>0</td>\n",
              "      <td>...</td>\n",
              "      <td>1</td>\n",
              "      <td>1</td>\n",
              "      <td>0</td>\n",
              "      <td>0</td>\n",
              "      <td>0</td>\n",
              "      <td>2</td>\n",
              "      <td>2</td>\n",
              "      <td>1</td>\n",
              "      <td>2</td>\n",
              "      <td>1</td>\n",
              "    </tr>\n",
              "    <tr>\n",
              "      <th>2</th>\n",
              "      <td>0</td>\n",
              "      <td>54.26</td>\n",
              "      <td>29.0</td>\n",
              "      <td>0.0</td>\n",
              "      <td>29.57</td>\n",
              "      <td>0</td>\n",
              "      <td>0</td>\n",
              "      <td>0</td>\n",
              "      <td>1</td>\n",
              "      <td>4</td>\n",
              "      <td>...</td>\n",
              "      <td>3</td>\n",
              "      <td>0</td>\n",
              "      <td>0</td>\n",
              "      <td>0</td>\n",
              "      <td>3</td>\n",
              "      <td>0</td>\n",
              "      <td>0</td>\n",
              "      <td>0</td>\n",
              "      <td>1</td>\n",
              "      <td>4</td>\n",
              "    </tr>\n",
              "    <tr>\n",
              "      <th>3</th>\n",
              "      <td>1</td>\n",
              "      <td>1409.71</td>\n",
              "      <td>44.0</td>\n",
              "      <td>0.0</td>\n",
              "      <td>142.15</td>\n",
              "      <td>1</td>\n",
              "      <td>2</td>\n",
              "      <td>0</td>\n",
              "      <td>1</td>\n",
              "      <td>0</td>\n",
              "      <td>...</td>\n",
              "      <td>1</td>\n",
              "      <td>0</td>\n",
              "      <td>1</td>\n",
              "      <td>1</td>\n",
              "      <td>1</td>\n",
              "      <td>3</td>\n",
              "      <td>0</td>\n",
              "      <td>1</td>\n",
              "      <td>0</td>\n",
              "      <td>5</td>\n",
              "    </tr>\n",
              "    <tr>\n",
              "      <th>4</th>\n",
              "      <td>0</td>\n",
              "      <td>120.16</td>\n",
              "      <td>30.0</td>\n",
              "      <td>0.0</td>\n",
              "      <td>132.11</td>\n",
              "      <td>0</td>\n",
              "      <td>1</td>\n",
              "      <td>1</td>\n",
              "      <td>0</td>\n",
              "      <td>1</td>\n",
              "      <td>...</td>\n",
              "      <td>1</td>\n",
              "      <td>2</td>\n",
              "      <td>1</td>\n",
              "      <td>1</td>\n",
              "      <td>2</td>\n",
              "      <td>3</td>\n",
              "      <td>0</td>\n",
              "      <td>0</td>\n",
              "      <td>2</td>\n",
              "      <td>5</td>\n",
              "    </tr>\n",
              "  </tbody>\n",
              "</table>\n",
              "<p>5 rows × 27 columns</p>\n",
              "</div>"
            ],
            "text/plain": [
              "   mkt_email  next_mnth_pv   age  tenure  ammount_spent  vehicle  food  \\\n",
              "0          0         34.38  32.0     0.0          18.05        0     0   \n",
              "1          0        183.14  23.0     1.0         182.97        0     0   \n",
              "2          0         54.26  29.0     0.0          29.57        0     0   \n",
              "3          1       1409.71  44.0     0.0         142.15        1     2   \n",
              "4          0        120.16  30.0     0.0         132.11        0     1   \n",
              "\n",
              "   beverage  art  baby  ...  electronics  sports  tools  games  industry  pc  \\\n",
              "0         1    1     1  ...            3       0      1      0         1   2   \n",
              "1         0    1     0  ...            1       1      0      0         0   2   \n",
              "2         0    1     4  ...            3       0      0      0         3   0   \n",
              "3         0    1     0  ...            1       0      1      1         1   3   \n",
              "4         1    0     1  ...            1       2      1      1         2   3   \n",
              "\n",
              "   jewel  books  music_books_movies  health  \n",
              "0      2      0                   1       1  \n",
              "1      2      1                   2       1  \n",
              "2      0      0                   1       4  \n",
              "3      0      1                   0       5  \n",
              "4      0      0                   2       5  \n",
              "\n",
              "[5 rows x 27 columns]"
            ]
          },
          "execution_count": 7,
          "metadata": {},
          "output_type": "execute_result"
        }
      ],
      "source": [
        "data_biased.head()"
      ]
    },
    {
      "cell_type": "code",
      "execution_count": 8,
      "metadata": {},
      "outputs": [
        {
          "data": {
            "text/html": [
              "<div>\n",
              "<style scoped>\n",
              "    .dataframe tbody tr th:only-of-type {\n",
              "        vertical-align: middle;\n",
              "    }\n",
              "\n",
              "    .dataframe tbody tr th {\n",
              "        vertical-align: top;\n",
              "    }\n",
              "\n",
              "    .dataframe thead th {\n",
              "        text-align: right;\n",
              "    }\n",
              "</style>\n",
              "<table border=\"1\" class=\"dataframe\">\n",
              "  <thead>\n",
              "    <tr style=\"text-align: right;\">\n",
              "      <th></th>\n",
              "      <th>mkt_email</th>\n",
              "      <th>next_mnth_pv</th>\n",
              "      <th>age</th>\n",
              "      <th>tenure</th>\n",
              "      <th>ammount_spent</th>\n",
              "      <th>vehicle</th>\n",
              "      <th>food</th>\n",
              "      <th>beverage</th>\n",
              "      <th>art</th>\n",
              "      <th>baby</th>\n",
              "      <th>...</th>\n",
              "      <th>electronics</th>\n",
              "      <th>sports</th>\n",
              "      <th>tools</th>\n",
              "      <th>games</th>\n",
              "      <th>industry</th>\n",
              "      <th>pc</th>\n",
              "      <th>jewel</th>\n",
              "      <th>books</th>\n",
              "      <th>music_books_movies</th>\n",
              "      <th>health</th>\n",
              "    </tr>\n",
              "  </thead>\n",
              "  <tbody>\n",
              "    <tr>\n",
              "      <th>0</th>\n",
              "      <td>0</td>\n",
              "      <td>244.26</td>\n",
              "      <td>61.0</td>\n",
              "      <td>1.0</td>\n",
              "      <td>21.84</td>\n",
              "      <td>0</td>\n",
              "      <td>2</td>\n",
              "      <td>2</td>\n",
              "      <td>0</td>\n",
              "      <td>2</td>\n",
              "      <td>...</td>\n",
              "      <td>1</td>\n",
              "      <td>0</td>\n",
              "      <td>0</td>\n",
              "      <td>3</td>\n",
              "      <td>1</td>\n",
              "      <td>0</td>\n",
              "      <td>1</td>\n",
              "      <td>0</td>\n",
              "      <td>0</td>\n",
              "      <td>2</td>\n",
              "    </tr>\n",
              "    <tr>\n",
              "      <th>1</th>\n",
              "      <td>0</td>\n",
              "      <td>29.67</td>\n",
              "      <td>36.0</td>\n",
              "      <td>1.0</td>\n",
              "      <td>107.40</td>\n",
              "      <td>0</td>\n",
              "      <td>2</td>\n",
              "      <td>0</td>\n",
              "      <td>2</td>\n",
              "      <td>0</td>\n",
              "      <td>...</td>\n",
              "      <td>1</td>\n",
              "      <td>1</td>\n",
              "      <td>1</td>\n",
              "      <td>2</td>\n",
              "      <td>1</td>\n",
              "      <td>2</td>\n",
              "      <td>1</td>\n",
              "      <td>0</td>\n",
              "      <td>2</td>\n",
              "      <td>2</td>\n",
              "    </tr>\n",
              "    <tr>\n",
              "      <th>2</th>\n",
              "      <td>0</td>\n",
              "      <td>11.73</td>\n",
              "      <td>64.0</td>\n",
              "      <td>0.0</td>\n",
              "      <td>59.81</td>\n",
              "      <td>0</td>\n",
              "      <td>1</td>\n",
              "      <td>0</td>\n",
              "      <td>0</td>\n",
              "      <td>0</td>\n",
              "      <td>...</td>\n",
              "      <td>2</td>\n",
              "      <td>0</td>\n",
              "      <td>0</td>\n",
              "      <td>3</td>\n",
              "      <td>0</td>\n",
              "      <td>1</td>\n",
              "      <td>0</td>\n",
              "      <td>1</td>\n",
              "      <td>0</td>\n",
              "      <td>1</td>\n",
              "    </tr>\n",
              "    <tr>\n",
              "      <th>3</th>\n",
              "      <td>0</td>\n",
              "      <td>41.41</td>\n",
              "      <td>74.0</td>\n",
              "      <td>0.0</td>\n",
              "      <td>62.98</td>\n",
              "      <td>0</td>\n",
              "      <td>1</td>\n",
              "      <td>0</td>\n",
              "      <td>0</td>\n",
              "      <td>3</td>\n",
              "      <td>...</td>\n",
              "      <td>1</td>\n",
              "      <td>0</td>\n",
              "      <td>2</td>\n",
              "      <td>2</td>\n",
              "      <td>1</td>\n",
              "      <td>1</td>\n",
              "      <td>0</td>\n",
              "      <td>4</td>\n",
              "      <td>1</td>\n",
              "      <td>0</td>\n",
              "    </tr>\n",
              "    <tr>\n",
              "      <th>4</th>\n",
              "      <td>0</td>\n",
              "      <td>447.89</td>\n",
              "      <td>59.0</td>\n",
              "      <td>0.0</td>\n",
              "      <td>72.56</td>\n",
              "      <td>0</td>\n",
              "      <td>1</td>\n",
              "      <td>1</td>\n",
              "      <td>3</td>\n",
              "      <td>2</td>\n",
              "      <td>...</td>\n",
              "      <td>5</td>\n",
              "      <td>0</td>\n",
              "      <td>0</td>\n",
              "      <td>1</td>\n",
              "      <td>0</td>\n",
              "      <td>0</td>\n",
              "      <td>1</td>\n",
              "      <td>1</td>\n",
              "      <td>2</td>\n",
              "      <td>1</td>\n",
              "    </tr>\n",
              "  </tbody>\n",
              "</table>\n",
              "<p>5 rows × 27 columns</p>\n",
              "</div>"
            ],
            "text/plain": [
              "   mkt_email  next_mnth_pv   age  tenure  ammount_spent  vehicle  food  \\\n",
              "0          0        244.26  61.0     1.0          21.84        0     2   \n",
              "1          0         29.67  36.0     1.0         107.40        0     2   \n",
              "2          0         11.73  64.0     0.0          59.81        0     1   \n",
              "3          0         41.41  74.0     0.0          62.98        0     1   \n",
              "4          0        447.89  59.0     0.0          72.56        0     1   \n",
              "\n",
              "   beverage  art  baby  ...  electronics  sports  tools  games  industry  pc  \\\n",
              "0         2    0     2  ...            1       0      0      3         1   0   \n",
              "1         0    2     0  ...            1       1      1      2         1   2   \n",
              "2         0    0     0  ...            2       0      0      3         0   1   \n",
              "3         0    0     3  ...            1       0      2      2         1   1   \n",
              "4         1    3     2  ...            5       0      0      1         0   0   \n",
              "\n",
              "   jewel  books  music_books_movies  health  \n",
              "0      1      0                   0       2  \n",
              "1      1      0                   2       2  \n",
              "2      0      1                   0       1  \n",
              "3      0      4                   1       0  \n",
              "4      1      1                   2       1  \n",
              "\n",
              "[5 rows x 27 columns]"
            ]
          },
          "execution_count": 8,
          "metadata": {},
          "output_type": "execute_result"
        }
      ],
      "source": [
        "data_random.head()"
      ]
    },
    {
      "cell_type": "code",
      "execution_count": 9,
      "metadata": {},
      "outputs": [
        {
          "name": "stdout",
          "output_type": "stream",
          "text": [
            "300000 10000\n"
          ]
        }
      ],
      "source": [
        "#查看数据量\n",
        "print(len(data_biased), len(data_random))"
      ]
    },
    {
      "cell_type": "markdown",
      "metadata": {},
      "source": [
        "- Treatment Variables: `mkt_email`\n",
        "- Outcome Variables: `next_mnth_pv`\n",
        "- Confounders: other variables, making treatment heterogeneity"
      ]
    },
    {
      "cell_type": "code",
      "execution_count": 11,
      "metadata": {},
      "outputs": [],
      "source": [
        "# state the variables\n",
        "Y='next_mnth_pv'\n",
        "T='mkt_email'\n",
        "X=list(data_random.drop(columns=[Y,T]).columns)\n",
        "train, test = data_biased, data_random"
      ]
    },
    {
      "cell_type": "markdown",
      "metadata": {},
      "source": [
        "- T-Learner Training with LightGBM"
      ]
    },
    {
      "cell_type": "code",
      "execution_count": 22,
      "metadata": {},
      "outputs": [
        {
          "ename": "OSError",
          "evalue": "Could not load shared object file: libllvmlite.dylib",
          "output_type": "error",
          "traceback": [
            "\u001b[0;31m---------------------------------------------------------------------------\u001b[0m",
            "\u001b[0;31mOSError\u001b[0m                                   Traceback (most recent call last)",
            "Cell \u001b[0;32mIn[22], line 1\u001b[0m\n\u001b[0;32m----> 1\u001b[0m \u001b[38;5;28;01mfrom\u001b[39;00m \u001b[38;5;21;01mlightgbm\u001b[39;00m \u001b[38;5;28;01mimport\u001b[39;00m LGBMRegressor\n",
            "File \u001b[0;32m~/opt/anaconda3/lib/python3.8/site-packages/lightgbm/__init__.py:8\u001b[0m\n\u001b[1;32m      2\u001b[0m \u001b[38;5;124;03m\"\"\"LightGBM, Light Gradient Boosting Machine.\u001b[39;00m\n\u001b[1;32m      3\u001b[0m \n\u001b[1;32m      4\u001b[0m \u001b[38;5;124;03mContributors: https://github.com/microsoft/LightGBM/graphs/contributors.\u001b[39;00m\n\u001b[1;32m      5\u001b[0m \u001b[38;5;124;03m\"\"\"\u001b[39;00m\n\u001b[1;32m      6\u001b[0m \u001b[38;5;28;01mfrom\u001b[39;00m \u001b[38;5;21;01mpathlib\u001b[39;00m \u001b[38;5;28;01mimport\u001b[39;00m Path\n\u001b[0;32m----> 8\u001b[0m \u001b[38;5;28;01mfrom\u001b[39;00m \u001b[38;5;21;01m.\u001b[39;00m\u001b[38;5;21;01mbasic\u001b[39;00m \u001b[38;5;28;01mimport\u001b[39;00m Booster, Dataset, Sequence, register_logger\n\u001b[1;32m      9\u001b[0m \u001b[38;5;28;01mfrom\u001b[39;00m \u001b[38;5;21;01m.\u001b[39;00m\u001b[38;5;21;01mcallback\u001b[39;00m \u001b[38;5;28;01mimport\u001b[39;00m early_stopping, log_evaluation, print_evaluation, record_evaluation, reset_parameter\n\u001b[1;32m     10\u001b[0m \u001b[38;5;28;01mfrom\u001b[39;00m \u001b[38;5;21;01m.\u001b[39;00m\u001b[38;5;21;01mengine\u001b[39;00m \u001b[38;5;28;01mimport\u001b[39;00m CVBooster, cv, train\n",
            "File \u001b[0;32m~/opt/anaconda3/lib/python3.8/site-packages/lightgbm/basic.py:20\u001b[0m\n\u001b[1;32m     17\u001b[0m \u001b[38;5;28;01mimport\u001b[39;00m \u001b[38;5;21;01mnumpy\u001b[39;00m \u001b[38;5;28;01mas\u001b[39;00m \u001b[38;5;21;01mnp\u001b[39;00m\n\u001b[1;32m     18\u001b[0m \u001b[38;5;28;01mimport\u001b[39;00m \u001b[38;5;21;01mscipy\u001b[39;00m\u001b[38;5;21;01m.\u001b[39;00m\u001b[38;5;21;01msparse\u001b[39;00m\n\u001b[0;32m---> 20\u001b[0m \u001b[38;5;28;01mfrom\u001b[39;00m \u001b[38;5;21;01m.\u001b[39;00m\u001b[38;5;21;01mcompat\u001b[39;00m \u001b[38;5;28;01mimport\u001b[39;00m PANDAS_INSTALLED, concat, dt_DataTable, is_dtype_sparse, pd_DataFrame, pd_Series\n\u001b[1;32m     21\u001b[0m \u001b[38;5;28;01mfrom\u001b[39;00m \u001b[38;5;21;01m.\u001b[39;00m\u001b[38;5;21;01mlibpath\u001b[39;00m \u001b[38;5;28;01mimport\u001b[39;00m find_lib_path\n\u001b[1;32m     23\u001b[0m ZERO_THRESHOLD \u001b[38;5;241m=\u001b[39m \u001b[38;5;241m1e-35\u001b[39m\n",
            "File \u001b[0;32m~/opt/anaconda3/lib/python3.8/site-packages/lightgbm/compat.py:127\u001b[0m\n\u001b[1;32m    125\u001b[0m \u001b[38;5;28;01mtry\u001b[39;00m:\n\u001b[1;32m    126\u001b[0m     \u001b[38;5;28;01mfrom\u001b[39;00m \u001b[38;5;21;01mdask\u001b[39;00m \u001b[38;5;28;01mimport\u001b[39;00m delayed\n\u001b[0;32m--> 127\u001b[0m     \u001b[38;5;28;01mfrom\u001b[39;00m \u001b[38;5;21;01mdask\u001b[39;00m\u001b[38;5;21;01m.\u001b[39;00m\u001b[38;5;21;01marray\u001b[39;00m \u001b[38;5;28;01mimport\u001b[39;00m Array \u001b[38;5;28;01mas\u001b[39;00m dask_Array\n\u001b[1;32m    128\u001b[0m     \u001b[38;5;28;01mfrom\u001b[39;00m \u001b[38;5;21;01mdask\u001b[39;00m\u001b[38;5;21;01m.\u001b[39;00m\u001b[38;5;21;01marray\u001b[39;00m \u001b[38;5;28;01mimport\u001b[39;00m from_delayed \u001b[38;5;28;01mas\u001b[39;00m dask_array_from_delayed\n\u001b[1;32m    129\u001b[0m     \u001b[38;5;28;01mfrom\u001b[39;00m \u001b[38;5;21;01mdask\u001b[39;00m\u001b[38;5;21;01m.\u001b[39;00m\u001b[38;5;21;01mbag\u001b[39;00m \u001b[38;5;28;01mimport\u001b[39;00m from_delayed \u001b[38;5;28;01mas\u001b[39;00m dask_bag_from_delayed\n",
            "File \u001b[0;32m~/opt/anaconda3/lib/python3.8/site-packages/dask/array/__init__.py:3\u001b[0m\n\u001b[1;32m      1\u001b[0m \u001b[38;5;28;01mtry\u001b[39;00m:\n\u001b[1;32m      2\u001b[0m     \u001b[38;5;28;01mfrom\u001b[39;00m \u001b[38;5;21;01m.\u001b[39;00m\u001b[38;5;21;01m.\u001b[39;00m\u001b[38;5;21;01mbase\u001b[39;00m \u001b[38;5;28;01mimport\u001b[39;00m compute\n\u001b[0;32m----> 3\u001b[0m     \u001b[38;5;28;01mfrom\u001b[39;00m \u001b[38;5;21;01m.\u001b[39;00m \u001b[38;5;28;01mimport\u001b[39;00m backends, fft, lib, linalg, ma, overlap, random\n\u001b[1;32m      4\u001b[0m     \u001b[38;5;28;01mfrom\u001b[39;00m \u001b[38;5;21;01m.\u001b[39;00m\u001b[38;5;21;01mblockwise\u001b[39;00m \u001b[38;5;28;01mimport\u001b[39;00m atop, blockwise\n\u001b[1;32m      5\u001b[0m     \u001b[38;5;28;01mfrom\u001b[39;00m \u001b[38;5;21;01m.\u001b[39;00m\u001b[38;5;21;01mchunk_types\u001b[39;00m \u001b[38;5;28;01mimport\u001b[39;00m register_chunk_type\n",
            "File \u001b[0;32m~/opt/anaconda3/lib/python3.8/site-packages/dask/array/backends.py:13\u001b[0m\n\u001b[1;32m     11\u001b[0m \u001b[38;5;28;01mfrom\u001b[39;00m \u001b[38;5;21;01m.\u001b[39;00m\u001b[38;5;21;01mnumpy_compat\u001b[39;00m \u001b[38;5;28;01mimport\u001b[39;00m divide \u001b[38;5;28;01mas\u001b[39;00m np_divide\n\u001b[1;32m     12\u001b[0m \u001b[38;5;28;01mfrom\u001b[39;00m \u001b[38;5;21;01m.\u001b[39;00m\u001b[38;5;21;01mnumpy_compat\u001b[39;00m \u001b[38;5;28;01mimport\u001b[39;00m ma_divide\n\u001b[0;32m---> 13\u001b[0m \u001b[38;5;28;01mfrom\u001b[39;00m \u001b[38;5;21;01m.\u001b[39;00m\u001b[38;5;21;01mpercentile\u001b[39;00m \u001b[38;5;28;01mimport\u001b[39;00m _percentile\n\u001b[1;32m     15\u001b[0m concatenate_lookup\u001b[38;5;241m.\u001b[39mregister((\u001b[38;5;28mobject\u001b[39m, np\u001b[38;5;241m.\u001b[39mndarray), np\u001b[38;5;241m.\u001b[39mconcatenate)\n\u001b[1;32m     16\u001b[0m tensordot_lookup\u001b[38;5;241m.\u001b[39mregister((\u001b[38;5;28mobject\u001b[39m, np\u001b[38;5;241m.\u001b[39mndarray), np\u001b[38;5;241m.\u001b[39mtensordot)\n",
            "File \u001b[0;32m~/opt/anaconda3/lib/python3.8/site-packages/dask/array/percentile.py:11\u001b[0m\n\u001b[1;32m      9\u001b[0m \u001b[38;5;28;01mfrom\u001b[39;00m \u001b[38;5;21;01m.\u001b[39;00m\u001b[38;5;21;01m.\u001b[39;00m\u001b[38;5;21;01mbase\u001b[39;00m \u001b[38;5;28;01mimport\u001b[39;00m tokenize\n\u001b[1;32m     10\u001b[0m \u001b[38;5;28;01mfrom\u001b[39;00m \u001b[38;5;21;01m.\u001b[39;00m\u001b[38;5;21;01m.\u001b[39;00m\u001b[38;5;21;01mhighlevelgraph\u001b[39;00m \u001b[38;5;28;01mimport\u001b[39;00m HighLevelGraph\n\u001b[0;32m---> 11\u001b[0m \u001b[38;5;28;01mfrom\u001b[39;00m \u001b[38;5;21;01m.\u001b[39;00m\u001b[38;5;21;01mcore\u001b[39;00m \u001b[38;5;28;01mimport\u001b[39;00m Array\n\u001b[1;32m     12\u001b[0m \u001b[38;5;28;01mfrom\u001b[39;00m \u001b[38;5;21;01m.\u001b[39;00m\u001b[38;5;21;01mnumpy_compat\u001b[39;00m \u001b[38;5;28;01mimport\u001b[39;00m _numpy_122\n\u001b[1;32m     13\u001b[0m \u001b[38;5;28;01mfrom\u001b[39;00m \u001b[38;5;21;01m.\u001b[39;00m\u001b[38;5;21;01mnumpy_compat\u001b[39;00m \u001b[38;5;28;01mimport\u001b[39;00m percentile \u001b[38;5;28;01mas\u001b[39;00m np_percentile\n",
            "File \u001b[0;32m~/opt/anaconda3/lib/python3.8/site-packages/dask/array/core.py:77\u001b[0m\n\u001b[1;32m     75\u001b[0m \u001b[38;5;28;01mfrom\u001b[39;00m \u001b[38;5;21;01m.\u001b[39;00m \u001b[38;5;28;01mimport\u001b[39;00m chunk\n\u001b[1;32m     76\u001b[0m \u001b[38;5;28;01mfrom\u001b[39;00m \u001b[38;5;21;01m.\u001b[39;00m\u001b[38;5;21;01mchunk\u001b[39;00m \u001b[38;5;28;01mimport\u001b[39;00m getitem\n\u001b[0;32m---> 77\u001b[0m \u001b[38;5;28;01mfrom\u001b[39;00m \u001b[38;5;21;01m.\u001b[39;00m\u001b[38;5;21;01mchunk_types\u001b[39;00m \u001b[38;5;28;01mimport\u001b[39;00m is_valid_array_chunk, is_valid_chunk_type\n\u001b[1;32m     79\u001b[0m \u001b[38;5;66;03m# Keep einsum_lookup and tensordot_lookup here for backwards compatibility\u001b[39;00m\n\u001b[1;32m     80\u001b[0m \u001b[38;5;28;01mfrom\u001b[39;00m \u001b[38;5;21;01m.\u001b[39;00m\u001b[38;5;21;01mdispatch\u001b[39;00m \u001b[38;5;28;01mimport\u001b[39;00m concatenate_lookup, einsum_lookup, tensordot_lookup  \u001b[38;5;66;03m# noqa: F401\u001b[39;00m\n",
            "File \u001b[0;32m~/opt/anaconda3/lib/python3.8/site-packages/dask/array/chunk_types.py:122\u001b[0m\n\u001b[1;32m    119\u001b[0m     \u001b[38;5;28;01mpass\u001b[39;00m\n\u001b[1;32m    121\u001b[0m \u001b[38;5;28;01mtry\u001b[39;00m:\n\u001b[0;32m--> 122\u001b[0m     \u001b[38;5;28;01mimport\u001b[39;00m \u001b[38;5;21;01msparse\u001b[39;00m\n\u001b[1;32m    124\u001b[0m     register_chunk_type(sparse\u001b[38;5;241m.\u001b[39mSparseArray)\n\u001b[1;32m    125\u001b[0m \u001b[38;5;28;01mexcept\u001b[39;00m \u001b[38;5;167;01mImportError\u001b[39;00m:\n",
            "File \u001b[0;32m~/opt/anaconda3/lib/python3.8/site-packages/sparse/__init__.py:1\u001b[0m\n\u001b[0;32m----> 1\u001b[0m \u001b[38;5;28;01mfrom\u001b[39;00m \u001b[38;5;21;01m.\u001b[39;00m\u001b[38;5;21;01m_common\u001b[39;00m \u001b[38;5;28;01mimport\u001b[39;00m (\n\u001b[1;32m      2\u001b[0m     SparseArray,\n\u001b[1;32m      3\u001b[0m     \u001b[38;5;28mabs\u001b[39m,\n\u001b[1;32m      4\u001b[0m     \u001b[38;5;28mall\u001b[39m,\n\u001b[1;32m      5\u001b[0m     \u001b[38;5;28many\u001b[39m,\n\u001b[1;32m      6\u001b[0m     asarray,\n\u001b[1;32m      7\u001b[0m     asnumpy,\n\u001b[1;32m      8\u001b[0m     astype,\n\u001b[1;32m      9\u001b[0m     broadcast_arrays,\n\u001b[1;32m     10\u001b[0m     broadcast_to,\n\u001b[1;32m     11\u001b[0m     concat,\n\u001b[1;32m     12\u001b[0m     concatenate,\n\u001b[1;32m     13\u001b[0m     dot,\n\u001b[1;32m     14\u001b[0m     einsum,\n\u001b[1;32m     15\u001b[0m     empty,\n\u001b[1;32m     16\u001b[0m     empty_like,\n\u001b[1;32m     17\u001b[0m     equal,\n\u001b[1;32m     18\u001b[0m     eye,\n\u001b[1;32m     19\u001b[0m     full,\n\u001b[1;32m     20\u001b[0m     full_like,\n\u001b[1;32m     21\u001b[0m     isfinite,\n\u001b[1;32m     22\u001b[0m     isinf,\n\u001b[1;32m     23\u001b[0m     isnan,\n\u001b[1;32m     24\u001b[0m     matmul,\n\u001b[1;32m     25\u001b[0m     \u001b[38;5;28mmax\u001b[39m,\n\u001b[1;32m     26\u001b[0m     mean,\n\u001b[1;32m     27\u001b[0m     \u001b[38;5;28mmin\u001b[39m,\n\u001b[1;32m     28\u001b[0m     moveaxis,\n\u001b[1;32m     29\u001b[0m     nonzero,\n\u001b[1;32m     30\u001b[0m     ones,\n\u001b[1;32m     31\u001b[0m     ones_like,\n\u001b[1;32m     32\u001b[0m     outer,\n\u001b[1;32m     33\u001b[0m     pad,\n\u001b[1;32m     34\u001b[0m     permute_dims,\n\u001b[1;32m     35\u001b[0m     prod,\n\u001b[1;32m     36\u001b[0m     reshape,\n\u001b[1;32m     37\u001b[0m     \u001b[38;5;28mround\u001b[39m,\n\u001b[1;32m     38\u001b[0m     squeeze,\n\u001b[1;32m     39\u001b[0m     stack,\n\u001b[1;32m     40\u001b[0m     std,\n\u001b[1;32m     41\u001b[0m     \u001b[38;5;28msum\u001b[39m,\n\u001b[1;32m     42\u001b[0m     tensordot,\n\u001b[1;32m     43\u001b[0m     zeros,\n\u001b[1;32m     44\u001b[0m     zeros_like,\n\u001b[1;32m     45\u001b[0m )\n\u001b[1;32m     46\u001b[0m \u001b[38;5;28;01mfrom\u001b[39;00m \u001b[38;5;21;01m.\u001b[39;00m\u001b[38;5;21;01m_compressed\u001b[39;00m \u001b[38;5;28;01mimport\u001b[39;00m GCXS\n\u001b[1;32m     47\u001b[0m \u001b[38;5;28;01mfrom\u001b[39;00m \u001b[38;5;21;01m.\u001b[39;00m\u001b[38;5;21;01m_coo\u001b[39;00m \u001b[38;5;28;01mimport\u001b[39;00m COO, as_coo\n",
            "File \u001b[0;32m~/opt/anaconda3/lib/python3.8/site-packages/sparse/_common.py:8\u001b[0m\n\u001b[1;32m      5\u001b[0m \u001b[38;5;28;01mfrom\u001b[39;00m \u001b[38;5;21;01mitertools\u001b[39;00m \u001b[38;5;28;01mimport\u001b[39;00m chain\n\u001b[1;32m      6\u001b[0m \u001b[38;5;28;01mfrom\u001b[39;00m \u001b[38;5;21;01moperator\u001b[39;00m \u001b[38;5;28;01mimport\u001b[39;00m index, mul\n\u001b[0;32m----> 8\u001b[0m \u001b[38;5;28;01mimport\u001b[39;00m \u001b[38;5;21;01mnumba\u001b[39;00m\n\u001b[1;32m      9\u001b[0m \u001b[38;5;28;01mfrom\u001b[39;00m \u001b[38;5;21;01mnumba\u001b[39;00m \u001b[38;5;28;01mimport\u001b[39;00m literal_unroll\n\u001b[1;32m     11\u001b[0m \u001b[38;5;28;01mimport\u001b[39;00m \u001b[38;5;21;01mnumpy\u001b[39;00m \u001b[38;5;28;01mas\u001b[39;00m \u001b[38;5;21;01mnp\u001b[39;00m\n",
            "File \u001b[0;32m~/opt/anaconda3/lib/python3.8/site-packages/numba/__init__.py:19\u001b[0m\n\u001b[1;32m     15\u001b[0m \u001b[38;5;28;01mdel\u001b[39;00m get_versions\n\u001b[1;32m     16\u001b[0m \u001b[38;5;28;01mdel\u001b[39;00m generate_version_info\n\u001b[0;32m---> 19\u001b[0m \u001b[38;5;28;01mfrom\u001b[39;00m \u001b[38;5;21;01mnumba\u001b[39;00m\u001b[38;5;21;01m.\u001b[39;00m\u001b[38;5;21;01mcore\u001b[39;00m \u001b[38;5;28;01mimport\u001b[39;00m config\n\u001b[1;32m     20\u001b[0m \u001b[38;5;28;01mfrom\u001b[39;00m \u001b[38;5;21;01mnumba\u001b[39;00m\u001b[38;5;21;01m.\u001b[39;00m\u001b[38;5;21;01mtesting\u001b[39;00m \u001b[38;5;28;01mimport\u001b[39;00m _runtests \u001b[38;5;28;01mas\u001b[39;00m runtests\n\u001b[1;32m     21\u001b[0m \u001b[38;5;28;01mfrom\u001b[39;00m \u001b[38;5;21;01mnumba\u001b[39;00m\u001b[38;5;21;01m.\u001b[39;00m\u001b[38;5;21;01mcore\u001b[39;00m \u001b[38;5;28;01mimport\u001b[39;00m types, errors\n",
            "File \u001b[0;32m~/opt/anaconda3/lib/python3.8/site-packages/numba/core/config.py:16\u001b[0m\n\u001b[1;32m     12\u001b[0m \u001b[38;5;28;01mexcept\u001b[39;00m \u001b[38;5;167;01mImportError\u001b[39;00m:\n\u001b[1;32m     13\u001b[0m     _HAVE_YAML \u001b[38;5;241m=\u001b[39m \u001b[38;5;28;01mFalse\u001b[39;00m\n\u001b[0;32m---> 16\u001b[0m \u001b[38;5;28;01mimport\u001b[39;00m \u001b[38;5;21;01mllvmlite\u001b[39;00m\u001b[38;5;21;01m.\u001b[39;00m\u001b[38;5;21;01mbinding\u001b[39;00m \u001b[38;5;28;01mas\u001b[39;00m \u001b[38;5;21;01mll\u001b[39;00m\n\u001b[1;32m     18\u001b[0m IS_WIN32 \u001b[38;5;241m=\u001b[39m sys\u001b[38;5;241m.\u001b[39mplatform\u001b[38;5;241m.\u001b[39mstartswith(\u001b[38;5;124m'\u001b[39m\u001b[38;5;124mwin32\u001b[39m\u001b[38;5;124m'\u001b[39m)\n\u001b[1;32m     19\u001b[0m IS_OSX \u001b[38;5;241m=\u001b[39m sys\u001b[38;5;241m.\u001b[39mplatform\u001b[38;5;241m.\u001b[39mstartswith(\u001b[38;5;124m'\u001b[39m\u001b[38;5;124mdarwin\u001b[39m\u001b[38;5;124m'\u001b[39m)\n",
            "File \u001b[0;32m~/opt/anaconda3/lib/python3.8/site-packages/llvmlite/binding/__init__.py:4\u001b[0m\n\u001b[1;32m      1\u001b[0m \u001b[38;5;124;03m\"\"\"\u001b[39;00m\n\u001b[1;32m      2\u001b[0m \u001b[38;5;124;03mThings that rely on the LLVM library\u001b[39;00m\n\u001b[1;32m      3\u001b[0m \u001b[38;5;124;03m\"\"\"\u001b[39;00m\n\u001b[0;32m----> 4\u001b[0m \u001b[38;5;28;01mfrom\u001b[39;00m \u001b[38;5;21;01m.\u001b[39;00m\u001b[38;5;21;01mdylib\u001b[39;00m \u001b[38;5;28;01mimport\u001b[39;00m \u001b[38;5;241m*\u001b[39m\n\u001b[1;32m      5\u001b[0m \u001b[38;5;28;01mfrom\u001b[39;00m \u001b[38;5;21;01m.\u001b[39;00m\u001b[38;5;21;01mexecutionengine\u001b[39;00m \u001b[38;5;28;01mimport\u001b[39;00m \u001b[38;5;241m*\u001b[39m\n\u001b[1;32m      6\u001b[0m \u001b[38;5;28;01mfrom\u001b[39;00m \u001b[38;5;21;01m.\u001b[39;00m\u001b[38;5;21;01minitfini\u001b[39;00m \u001b[38;5;28;01mimport\u001b[39;00m \u001b[38;5;241m*\u001b[39m\n",
            "File \u001b[0;32m~/opt/anaconda3/lib/python3.8/site-packages/llvmlite/binding/dylib.py:3\u001b[0m\n\u001b[1;32m      1\u001b[0m \u001b[38;5;28;01mfrom\u001b[39;00m \u001b[38;5;21;01mctypes\u001b[39;00m \u001b[38;5;28;01mimport\u001b[39;00m c_void_p, c_char_p, c_bool, POINTER\n\u001b[0;32m----> 3\u001b[0m \u001b[38;5;28;01mfrom\u001b[39;00m \u001b[38;5;21;01mllvmlite\u001b[39;00m\u001b[38;5;21;01m.\u001b[39;00m\u001b[38;5;21;01mbinding\u001b[39;00m \u001b[38;5;28;01mimport\u001b[39;00m ffi\n\u001b[1;32m      4\u001b[0m \u001b[38;5;28;01mfrom\u001b[39;00m \u001b[38;5;21;01mllvmlite\u001b[39;00m\u001b[38;5;21;01m.\u001b[39;00m\u001b[38;5;21;01mbinding\u001b[39;00m\u001b[38;5;21;01m.\u001b[39;00m\u001b[38;5;21;01mcommon\u001b[39;00m \u001b[38;5;28;01mimport\u001b[39;00m _encode_string\n\u001b[1;32m      7\u001b[0m \u001b[38;5;28;01mdef\u001b[39;00m \u001b[38;5;21maddress_of_symbol\u001b[39m(name):\n",
            "File \u001b[0;32m~/opt/anaconda3/lib/python3.8/site-packages/llvmlite/binding/ffi.py:191\u001b[0m\n\u001b[1;32m    189\u001b[0m         \u001b[38;5;28;01mbreak\u001b[39;00m\n\u001b[1;32m    190\u001b[0m \u001b[38;5;28;01melse\u001b[39;00m:\n\u001b[0;32m--> 191\u001b[0m     \u001b[38;5;28;01mraise\u001b[39;00m \u001b[38;5;167;01mOSError\u001b[39;00m(\u001b[38;5;124m\"\u001b[39m\u001b[38;5;124mCould not load shared object file: \u001b[39m\u001b[38;5;132;01m{}\u001b[39;00m\u001b[38;5;124m\"\u001b[39m\u001b[38;5;241m.\u001b[39mformat(_lib_name))\n\u001b[1;32m    194\u001b[0m lib \u001b[38;5;241m=\u001b[39m _lib_wrapper(lib)\n\u001b[1;32m    197\u001b[0m \u001b[38;5;28;01mdef\u001b[39;00m \u001b[38;5;21mregister_lock_callback\u001b[39m(acq_fn, rel_fn):\n",
            "\u001b[0;31mOSError\u001b[0m: Could not load shared object file: libllvmlite.dylib"
          ]
        }
      ],
      "source": [
        "from lightgbm import LGBMRegressor"
      ]
    },
    {
      "cell_type": "markdown",
      "metadata": {
        "id": "AMcAxTMS401B"
      },
      "source": [
        "### References\n",
        "- Causal Inference for Brave and True. https://matheusfacure.github.io/python-causality-handbook/21-Meta-Learners.html\n",
        "- CausalML. https://matheusfacure.github.io/python-causality-handbook/21-Meta-Learners.html\n",
        "- EconML.\n",
        "  - https://econml.azurewebsites.net/spec/estimation/metalearners.html\n",
        "  - https://nbviewer.org/github/py-why/EconML/blob/main/notebooks/Metalearners%20Examples.ipynb\n",
        "- Meta-learners for Estimating Treatment Effect in Causal Inference. https://towardsdatascience.com/meta-learners-for-estimating-treatment-effect-in-causal-inference-4f7071503401"
      ]
    }
  ],
  "metadata": {
    "colab": {
      "provenance": []
    },
    "kernelspec": {
      "display_name": "Python 3",
      "name": "python3"
    },
    "language_info": {
      "codemirror_mode": {
        "name": "ipython",
        "version": 3
      },
      "file_extension": ".py",
      "mimetype": "text/x-python",
      "name": "python",
      "nbconvert_exporter": "python",
      "pygments_lexer": "ipython3",
      "version": "3.8.8"
    }
  },
  "nbformat": 4,
  "nbformat_minor": 0
}
