{
  "cells": [
    {
      "cell_type": "markdown",
      "metadata": {
        "id": "SJhY3iZ64bIk"
      },
      "source": [
        "## Meta Learners"
      ]
    },
    {
      "cell_type": "markdown",
      "metadata": {
        "id": "m5kqRXFl4fT1"
      },
      "source": [
        "### Concepts\n"
      ]
    },
    {
      "cell_type": "markdown",
      "metadata": {
        "id": "0pUGcZo6fXp1"
      },
      "source": [
        "#### S-Learner\n",
        "- S stands for 'Single'\n",
        "  - estimate treatment effect using a single machine learning model\n",
        "- Expression:\n",
        "  - $\\hat{\\tau}(x)=E[Y(1)-Y(0)|X=x]$\n",
        "- Put control group and experiment group into the **same** model **at the same time**.\n",
        "- Evaluation:\n",
        "  - Simple to implement, be good at dealing with difference biases\n",
        "  - cannot handle datasets with <u>high dimensional features, imbalanced dataset, and selection bias</u>."
      ]
    },
    {
      "cell_type": "markdown",
      "metadata": {
        "id": "fkv1JiGJffRV"
      },
      "source": [
        "#### T-Learner\n",
        "- T stands for 'Two'\n",
        "  - estimate control group and experiment group with two difference machine learning models **separately**\n",
        "- Expression:\n",
        "  - $\\hat{\\mu_0(x)}=E[Y(0)|X=x]$\n",
        "  - $\\hat{\\mu_1(x)}=E[Y(1)|X=x]$\n",
        "  - $\\hat{\\tau}(x)=\\hat{\\mu_1(x)}-\\hat{\\mu_0(x)}$\n",
        "- Restriction: treatments have to be <u>discrete variables</u>.\n",
        "- Evaluation:\n",
        "  - Two machine learning models cannot learn dataset of each other, contributing to *huge error* when make predictions.\n",
        "    - With learning less dataset, the model performance is more likely to be influenced by some noise."
      ]
    },
    {
      "cell_type": "markdown",
      "metadata": {
        "id": "muh_2HFRfjpX"
      },
      "source": [
        "#### X-Learner\n",
        "- X describes the shape of the training set\n",
        "- Procedures:\n",
        "  - estimate response effect with supervised or regression models with traditional machine learning models:\n",
        "    - $\\hat{\\mu_0(x)}=E[Y(0)|X=x]$\n",
        "    - $\\hat{\\mu_1(x)}=E[Y(1)|X=x]$\n",
        "  - impute treatment effects for both treatment and control groups by gaining difference between true effect and estimated effect:\n",
        "    - $\\hat{D_i ^1}=Y_i ^1-\\hat{\\mu_0(X_i ^1)}$\n",
        "    - $\\hat{D_i ^0}=\\hat{\\mu_0(X_i ^0)}-Y_i ^0$\n",
        "  - CATE estimator with traditional machine learning models:\n",
        "    - $\\hat{\\tau}(x)=g(x)\\hat{\\tau_0}(x)+(1-g(x))\\hat{\\tau_1}(x)$\n",
        "      - $\\hat{\\tau_0}(x)=E[\\hat{D_i ^0}|X=x]$\n",
        "      - $\\hat{\\tau_1}(x)=E[\\hat{D_i ^1}|X=x]$\n",
        "      - $g(x)\\in [0,1]$:weights function, in order to minimize the high variance of $\\hat{\\tau}$\n",
        "        - sometimes, we use propensity score $e(x)$ to get $g(x)$.\n",
        "- Evaluation:\n",
        "  - make efficient use of an unbalanced data, make full use of dataset to extract information"
      ]
    },
    {
      "cell_type": "markdown",
      "metadata": {
        "id": "LrjTLvNPf3IE"
      },
      "source": [
        "#### R-Learner"
      ]
    },
    {
      "cell_type": "markdown",
      "metadata": {
        "id": "vGaYKkssKMZA"
      },
      "source": [
        "### Evaluation Methods"
      ]
    },
    {
      "cell_type": "markdown",
      "metadata": {
        "id": "3XMDr7QBKroP"
      },
      "source": [
        "##### Qini Curve & AUUC\n"
      ]
    },
    {
      "cell_type": "markdown",
      "metadata": {
        "id": "FbON-4OdL68R"
      },
      "source": [
        "## Case Study"
      ]
    },
    {
      "cell_type": "code",
      "execution_count": 4,
      "metadata": {
        "colab": {
          "base_uri": "https://localhost:8080/"
        },
        "id": "G9qLT6sHkw4K",
        "outputId": "ab825088-3601-49fd-b994-0c87246b3683"
      },
      "outputs": [
        {
          "name": "stdout",
          "output_type": "stream",
          "text": [
            "Collecting fklearn\n",
            "  Downloading fklearn-3.0.0-py3-none-any.whl (83 kB)\n",
            "\u001b[2K     \u001b[90m━━━━━━━━━━━━━━━━━━━━━━━━━━━━━━━━━━━━━━━\u001b[0m \u001b[32m83.7/83.7 kB\u001b[0m \u001b[31m240.0 kB/s\u001b[0m eta \u001b[36m0:00:00\u001b[0ma \u001b[36m0:00:01\u001b[0m\n",
            "\u001b[?25hCollecting joblib<2,>=1.3.2 (from fklearn)\n",
            "  Downloading joblib-1.3.2-py3-none-any.whl (302 kB)\n",
            "\u001b[2K     \u001b[90m━━━━━━━━━━━━━━━━━━━━━━━━━━━━━━━━━━━━━\u001b[0m \u001b[32m302.2/302.2 kB\u001b[0m \u001b[31m650.0 kB/s\u001b[0m eta \u001b[36m0:00:00\u001b[0ma \u001b[36m0:00:01\u001b[0m\n",
            "\u001b[?25hCollecting numpy<2,>=1.24.4 (from fklearn)\n",
            "  Downloading numpy-1.24.4-cp38-cp38-macosx_10_9_x86_64.whl (19.8 MB)\n",
            "\u001b[2K     \u001b[90m━━━━━━━━━━━━━━━━━━━━━━━━━━━━━━━━━━━━━━━\u001b[0m \u001b[32m19.8/19.8 MB\u001b[0m \u001b[31m422.1 kB/s\u001b[0m eta \u001b[36m0:00:00\u001b[0m00:01\u001b[0m00:02\u001b[0m\n",
            "\u001b[?25hCollecting pandas<3,>=2 (from fklearn)\n",
            "  Downloading pandas-2.0.3-cp38-cp38-macosx_10_9_x86_64.whl (11.7 MB)\n",
            "\u001b[2K     \u001b[90m━━━━━━━━━━━━━━━━━━━━━━━━━━━━━━━━━━━━━━━\u001b[0m \u001b[32m11.7/11.7 MB\u001b[0m \u001b[31m380.1 kB/s\u001b[0m eta \u001b[36m0:00:00\u001b[0m00:01\u001b[0m00:01\u001b[0m\n",
            "\u001b[?25hRequirement already satisfied: scikit-learn<2,>=1 in /Users/macbookpro/opt/anaconda3/lib/python3.8/site-packages (from fklearn) (1.2.2)\n",
            "Collecting statsmodels<1,>=0.14.0 (from fklearn)\n",
            "  Downloading statsmodels-0.14.1-cp38-cp38-macosx_10_9_x86_64.whl (10.5 MB)\n",
            "\u001b[2K     \u001b[90m━━━━━━━━━━━━━━━━━━━━━━━━━━━━━━━━━━━━━━━\u001b[0m \u001b[32m10.5/10.5 MB\u001b[0m \u001b[31m208.2 kB/s\u001b[0m eta \u001b[36m0:00:00\u001b[0m00:01\u001b[0m00:02\u001b[0m\n",
            "\u001b[?25hRequirement already satisfied: toolz<1,>=0.12.0 in /Users/macbookpro/opt/anaconda3/lib/python3.8/site-packages (from fklearn) (0.12.0)\n",
            "Requirement already satisfied: python-dateutil>=2.8.2 in /Users/macbookpro/opt/anaconda3/lib/python3.8/site-packages (from pandas<3,>=2->fklearn) (2.8.2)\n",
            "Requirement already satisfied: pytz>=2020.1 in /Users/macbookpro/opt/anaconda3/lib/python3.8/site-packages (from pandas<3,>=2->fklearn) (2022.7)\n",
            "Collecting tzdata>=2022.1 (from pandas<3,>=2->fklearn)\n",
            "  Downloading tzdata-2024.1-py2.py3-none-any.whl (345 kB)\n",
            "\u001b[2K     \u001b[90m━━━━━━━━━━━━━━━━━━━━━━━━━━━━━━━━━━━━━\u001b[0m \u001b[32m345.4/345.4 kB\u001b[0m \u001b[31m380.7 kB/s\u001b[0m eta \u001b[36m0:00:00\u001b[0ma \u001b[36m0:00:01\u001b[0m\n",
            "\u001b[?25hRequirement already satisfied: scipy>=1.3.2 in /Users/macbookpro/opt/anaconda3/lib/python3.8/site-packages (from scikit-learn<2,>=1->fklearn) (1.7.3)\n",
            "Requirement already satisfied: threadpoolctl>=2.0.0 in /Users/macbookpro/opt/anaconda3/lib/python3.8/site-packages (from scikit-learn<2,>=1->fklearn) (2.2.0)\n",
            "Collecting patsy>=0.5.4 (from statsmodels<1,>=0.14.0->fklearn)\n",
            "  Downloading patsy-0.5.6-py2.py3-none-any.whl (233 kB)\n",
            "\u001b[2K     \u001b[90m━━━━━━━━━━━━━━━━━━━━━━━━━━━━━━━━━━━━━\u001b[0m \u001b[32m233.9/233.9 kB\u001b[0m \u001b[31m444.5 kB/s\u001b[0m eta \u001b[36m0:00:00\u001b[0ma \u001b[36m0:00:01\u001b[0m\n",
            "\u001b[?25hRequirement already satisfied: packaging>=21.3 in /Users/macbookpro/opt/anaconda3/lib/python3.8/site-packages (from statsmodels<1,>=0.14.0->fklearn) (23.0)\n",
            "Requirement already satisfied: six in /Users/macbookpro/opt/anaconda3/lib/python3.8/site-packages (from patsy>=0.5.4->statsmodels<1,>=0.14.0->fklearn) (1.16.0)\n",
            "INFO: pip is looking at multiple versions of scipy to determine which version is compatible with other requirements. This could take a while.\n",
            "Collecting scipy>=1.3.2 (from scikit-learn<2,>=1->fklearn)\n",
            "  Downloading scipy-1.10.1-cp38-cp38-macosx_10_9_x86_64.whl (35.0 MB)\n",
            "\u001b[2K     \u001b[90m━━━━━━━━━━━━━━━━━━━━━━━━━━━━━━━━━━━━━━━\u001b[0m \u001b[32m35.0/35.0 MB\u001b[0m \u001b[31m247.4 kB/s\u001b[0m eta \u001b[36m0:00:00\u001b[0m00:01\u001b[0m00:04\u001b[0m\n",
            "\u001b[?25hInstalling collected packages: tzdata, numpy, joblib, scipy, patsy, pandas, statsmodels, fklearn\n",
            "  Attempting uninstall: numpy\n",
            "    Found existing installation: numpy 1.20.1\n",
            "    Uninstalling numpy-1.20.1:\n",
            "      Successfully uninstalled numpy-1.20.1\n",
            "  Attempting uninstall: joblib\n",
            "    Found existing installation: joblib 1.2.0\n",
            "    Uninstalling joblib-1.2.0:\n",
            "      Successfully uninstalled joblib-1.2.0\n",
            "  Attempting uninstall: scipy\n",
            "    Found existing installation: scipy 1.7.3\n",
            "    Uninstalling scipy-1.7.3:\n",
            "      Successfully uninstalled scipy-1.7.3\n",
            "  Attempting uninstall: patsy\n",
            "    Found existing installation: patsy 0.5.3\n",
            "    Uninstalling patsy-0.5.3:\n",
            "      Successfully uninstalled patsy-0.5.3\n",
            "  Attempting uninstall: pandas\n",
            "    Found existing installation: pandas 1.2.4\n",
            "    Uninstalling pandas-1.2.4:\n",
            "      Successfully uninstalled pandas-1.2.4\n",
            "  Attempting uninstall: statsmodels\n",
            "    Found existing installation: statsmodels 0.13.5\n",
            "    Uninstalling statsmodels-0.13.5:\n",
            "      Successfully uninstalled statsmodels-0.13.5\n",
            "Successfully installed fklearn-3.0.0 joblib-1.3.2 numpy-1.24.4 pandas-2.0.3 patsy-0.5.6 scipy-1.10.1 statsmodels-0.14.1 tzdata-2024.1\n",
            "Note: you may need to restart the kernel to use updated packages.\n"
          ]
        }
      ],
      "source": [
        "%pip install fklearn"
      ]
    },
    {
      "cell_type": "code",
      "execution_count": 1,
      "metadata": {
        "colab": {
          "base_uri": "https://localhost:8080/",
          "height": 422
        },
        "id": "7C-FRB0y2Nsi",
        "outputId": "24753996-3551-4ae2-9db8-c837a91622c5"
      },
      "outputs": [],
      "source": [
        "import pandas as pd\n",
        "import numpy as np\n",
        "import matplotlib.pyplot as plt\n",
        "import seaborn as sns\n",
        "from fklearn.causal.validation.curves import relative_cumulative_gain_curve\n",
        "from fklearn.causal.validation.auc import area_under_the_relative_cumulative_gain_curve"
      ]
    },
    {
      "cell_type": "markdown",
      "metadata": {
        "id": "Q379ha6PL4G7"
      },
      "source": [
        "### Meta-Learners with Discrete Treatments"
      ]
    },
    {
      "cell_type": "markdown",
      "metadata": {},
      "source": [
        "- Background:\n",
        "  - We want to know which customers are sensitive to the marketing email, estimating the conditional average treatment effect of an email on customers' future purchase amount.\n",
        "- Datasets:\n",
        "  - customer behavior historical data, huge amount\n",
        "  - randomized, tiny amount"
      ]
    },
    {
      "cell_type": "code",
      "execution_count": 2,
      "metadata": {},
      "outputs": [],
      "source": [
        "#import datasets\n",
        "data_biased=pd.read_csv('/Users/macbookpro/Desktop/email_obs_data.csv')\n",
        "data_random=pd.read_csv('/Users/macbookpro/Desktop/email_rnd_data.csv')"
      ]
    },
    {
      "cell_type": "code",
      "execution_count": 7,
      "metadata": {},
      "outputs": [
        {
          "data": {
            "text/html": [
              "<div>\n",
              "<style scoped>\n",
              "    .dataframe tbody tr th:only-of-type {\n",
              "        vertical-align: middle;\n",
              "    }\n",
              "\n",
              "    .dataframe tbody tr th {\n",
              "        vertical-align: top;\n",
              "    }\n",
              "\n",
              "    .dataframe thead th {\n",
              "        text-align: right;\n",
              "    }\n",
              "</style>\n",
              "<table border=\"1\" class=\"dataframe\">\n",
              "  <thead>\n",
              "    <tr style=\"text-align: right;\">\n",
              "      <th></th>\n",
              "      <th>mkt_email</th>\n",
              "      <th>next_mnth_pv</th>\n",
              "      <th>age</th>\n",
              "      <th>tenure</th>\n",
              "      <th>ammount_spent</th>\n",
              "      <th>vehicle</th>\n",
              "      <th>food</th>\n",
              "      <th>beverage</th>\n",
              "      <th>art</th>\n",
              "      <th>baby</th>\n",
              "      <th>...</th>\n",
              "      <th>electronics</th>\n",
              "      <th>sports</th>\n",
              "      <th>tools</th>\n",
              "      <th>games</th>\n",
              "      <th>industry</th>\n",
              "      <th>pc</th>\n",
              "      <th>jewel</th>\n",
              "      <th>books</th>\n",
              "      <th>music_books_movies</th>\n",
              "      <th>health</th>\n",
              "    </tr>\n",
              "  </thead>\n",
              "  <tbody>\n",
              "    <tr>\n",
              "      <th>0</th>\n",
              "      <td>0</td>\n",
              "      <td>34.38</td>\n",
              "      <td>32.0</td>\n",
              "      <td>0.0</td>\n",
              "      <td>18.05</td>\n",
              "      <td>0</td>\n",
              "      <td>0</td>\n",
              "      <td>1</td>\n",
              "      <td>1</td>\n",
              "      <td>1</td>\n",
              "      <td>...</td>\n",
              "      <td>3</td>\n",
              "      <td>0</td>\n",
              "      <td>1</td>\n",
              "      <td>0</td>\n",
              "      <td>1</td>\n",
              "      <td>2</td>\n",
              "      <td>2</td>\n",
              "      <td>0</td>\n",
              "      <td>1</td>\n",
              "      <td>1</td>\n",
              "    </tr>\n",
              "    <tr>\n",
              "      <th>1</th>\n",
              "      <td>0</td>\n",
              "      <td>183.14</td>\n",
              "      <td>23.0</td>\n",
              "      <td>1.0</td>\n",
              "      <td>182.97</td>\n",
              "      <td>0</td>\n",
              "      <td>0</td>\n",
              "      <td>0</td>\n",
              "      <td>1</td>\n",
              "      <td>0</td>\n",
              "      <td>...</td>\n",
              "      <td>1</td>\n",
              "      <td>1</td>\n",
              "      <td>0</td>\n",
              "      <td>0</td>\n",
              "      <td>0</td>\n",
              "      <td>2</td>\n",
              "      <td>2</td>\n",
              "      <td>1</td>\n",
              "      <td>2</td>\n",
              "      <td>1</td>\n",
              "    </tr>\n",
              "    <tr>\n",
              "      <th>2</th>\n",
              "      <td>0</td>\n",
              "      <td>54.26</td>\n",
              "      <td>29.0</td>\n",
              "      <td>0.0</td>\n",
              "      <td>29.57</td>\n",
              "      <td>0</td>\n",
              "      <td>0</td>\n",
              "      <td>0</td>\n",
              "      <td>1</td>\n",
              "      <td>4</td>\n",
              "      <td>...</td>\n",
              "      <td>3</td>\n",
              "      <td>0</td>\n",
              "      <td>0</td>\n",
              "      <td>0</td>\n",
              "      <td>3</td>\n",
              "      <td>0</td>\n",
              "      <td>0</td>\n",
              "      <td>0</td>\n",
              "      <td>1</td>\n",
              "      <td>4</td>\n",
              "    </tr>\n",
              "    <tr>\n",
              "      <th>3</th>\n",
              "      <td>1</td>\n",
              "      <td>1409.71</td>\n",
              "      <td>44.0</td>\n",
              "      <td>0.0</td>\n",
              "      <td>142.15</td>\n",
              "      <td>1</td>\n",
              "      <td>2</td>\n",
              "      <td>0</td>\n",
              "      <td>1</td>\n",
              "      <td>0</td>\n",
              "      <td>...</td>\n",
              "      <td>1</td>\n",
              "      <td>0</td>\n",
              "      <td>1</td>\n",
              "      <td>1</td>\n",
              "      <td>1</td>\n",
              "      <td>3</td>\n",
              "      <td>0</td>\n",
              "      <td>1</td>\n",
              "      <td>0</td>\n",
              "      <td>5</td>\n",
              "    </tr>\n",
              "    <tr>\n",
              "      <th>4</th>\n",
              "      <td>0</td>\n",
              "      <td>120.16</td>\n",
              "      <td>30.0</td>\n",
              "      <td>0.0</td>\n",
              "      <td>132.11</td>\n",
              "      <td>0</td>\n",
              "      <td>1</td>\n",
              "      <td>1</td>\n",
              "      <td>0</td>\n",
              "      <td>1</td>\n",
              "      <td>...</td>\n",
              "      <td>1</td>\n",
              "      <td>2</td>\n",
              "      <td>1</td>\n",
              "      <td>1</td>\n",
              "      <td>2</td>\n",
              "      <td>3</td>\n",
              "      <td>0</td>\n",
              "      <td>0</td>\n",
              "      <td>2</td>\n",
              "      <td>5</td>\n",
              "    </tr>\n",
              "  </tbody>\n",
              "</table>\n",
              "<p>5 rows × 27 columns</p>\n",
              "</div>"
            ],
            "text/plain": [
              "   mkt_email  next_mnth_pv   age  tenure  ammount_spent  vehicle  food  \\\n",
              "0          0         34.38  32.0     0.0          18.05        0     0   \n",
              "1          0        183.14  23.0     1.0         182.97        0     0   \n",
              "2          0         54.26  29.0     0.0          29.57        0     0   \n",
              "3          1       1409.71  44.0     0.0         142.15        1     2   \n",
              "4          0        120.16  30.0     0.0         132.11        0     1   \n",
              "\n",
              "   beverage  art  baby  ...  electronics  sports  tools  games  industry  pc  \\\n",
              "0         1    1     1  ...            3       0      1      0         1   2   \n",
              "1         0    1     0  ...            1       1      0      0         0   2   \n",
              "2         0    1     4  ...            3       0      0      0         3   0   \n",
              "3         0    1     0  ...            1       0      1      1         1   3   \n",
              "4         1    0     1  ...            1       2      1      1         2   3   \n",
              "\n",
              "   jewel  books  music_books_movies  health  \n",
              "0      2      0                   1       1  \n",
              "1      2      1                   2       1  \n",
              "2      0      0                   1       4  \n",
              "3      0      1                   0       5  \n",
              "4      0      0                   2       5  \n",
              "\n",
              "[5 rows x 27 columns]"
            ]
          },
          "execution_count": 7,
          "metadata": {},
          "output_type": "execute_result"
        }
      ],
      "source": [
        "data_biased.head()"
      ]
    },
    {
      "cell_type": "code",
      "execution_count": 8,
      "metadata": {},
      "outputs": [
        {
          "data": {
            "text/html": [
              "<div>\n",
              "<style scoped>\n",
              "    .dataframe tbody tr th:only-of-type {\n",
              "        vertical-align: middle;\n",
              "    }\n",
              "\n",
              "    .dataframe tbody tr th {\n",
              "        vertical-align: top;\n",
              "    }\n",
              "\n",
              "    .dataframe thead th {\n",
              "        text-align: right;\n",
              "    }\n",
              "</style>\n",
              "<table border=\"1\" class=\"dataframe\">\n",
              "  <thead>\n",
              "    <tr style=\"text-align: right;\">\n",
              "      <th></th>\n",
              "      <th>mkt_email</th>\n",
              "      <th>next_mnth_pv</th>\n",
              "      <th>age</th>\n",
              "      <th>tenure</th>\n",
              "      <th>ammount_spent</th>\n",
              "      <th>vehicle</th>\n",
              "      <th>food</th>\n",
              "      <th>beverage</th>\n",
              "      <th>art</th>\n",
              "      <th>baby</th>\n",
              "      <th>...</th>\n",
              "      <th>electronics</th>\n",
              "      <th>sports</th>\n",
              "      <th>tools</th>\n",
              "      <th>games</th>\n",
              "      <th>industry</th>\n",
              "      <th>pc</th>\n",
              "      <th>jewel</th>\n",
              "      <th>books</th>\n",
              "      <th>music_books_movies</th>\n",
              "      <th>health</th>\n",
              "    </tr>\n",
              "  </thead>\n",
              "  <tbody>\n",
              "    <tr>\n",
              "      <th>0</th>\n",
              "      <td>0</td>\n",
              "      <td>244.26</td>\n",
              "      <td>61.0</td>\n",
              "      <td>1.0</td>\n",
              "      <td>21.84</td>\n",
              "      <td>0</td>\n",
              "      <td>2</td>\n",
              "      <td>2</td>\n",
              "      <td>0</td>\n",
              "      <td>2</td>\n",
              "      <td>...</td>\n",
              "      <td>1</td>\n",
              "      <td>0</td>\n",
              "      <td>0</td>\n",
              "      <td>3</td>\n",
              "      <td>1</td>\n",
              "      <td>0</td>\n",
              "      <td>1</td>\n",
              "      <td>0</td>\n",
              "      <td>0</td>\n",
              "      <td>2</td>\n",
              "    </tr>\n",
              "    <tr>\n",
              "      <th>1</th>\n",
              "      <td>0</td>\n",
              "      <td>29.67</td>\n",
              "      <td>36.0</td>\n",
              "      <td>1.0</td>\n",
              "      <td>107.40</td>\n",
              "      <td>0</td>\n",
              "      <td>2</td>\n",
              "      <td>0</td>\n",
              "      <td>2</td>\n",
              "      <td>0</td>\n",
              "      <td>...</td>\n",
              "      <td>1</td>\n",
              "      <td>1</td>\n",
              "      <td>1</td>\n",
              "      <td>2</td>\n",
              "      <td>1</td>\n",
              "      <td>2</td>\n",
              "      <td>1</td>\n",
              "      <td>0</td>\n",
              "      <td>2</td>\n",
              "      <td>2</td>\n",
              "    </tr>\n",
              "    <tr>\n",
              "      <th>2</th>\n",
              "      <td>0</td>\n",
              "      <td>11.73</td>\n",
              "      <td>64.0</td>\n",
              "      <td>0.0</td>\n",
              "      <td>59.81</td>\n",
              "      <td>0</td>\n",
              "      <td>1</td>\n",
              "      <td>0</td>\n",
              "      <td>0</td>\n",
              "      <td>0</td>\n",
              "      <td>...</td>\n",
              "      <td>2</td>\n",
              "      <td>0</td>\n",
              "      <td>0</td>\n",
              "      <td>3</td>\n",
              "      <td>0</td>\n",
              "      <td>1</td>\n",
              "      <td>0</td>\n",
              "      <td>1</td>\n",
              "      <td>0</td>\n",
              "      <td>1</td>\n",
              "    </tr>\n",
              "    <tr>\n",
              "      <th>3</th>\n",
              "      <td>0</td>\n",
              "      <td>41.41</td>\n",
              "      <td>74.0</td>\n",
              "      <td>0.0</td>\n",
              "      <td>62.98</td>\n",
              "      <td>0</td>\n",
              "      <td>1</td>\n",
              "      <td>0</td>\n",
              "      <td>0</td>\n",
              "      <td>3</td>\n",
              "      <td>...</td>\n",
              "      <td>1</td>\n",
              "      <td>0</td>\n",
              "      <td>2</td>\n",
              "      <td>2</td>\n",
              "      <td>1</td>\n",
              "      <td>1</td>\n",
              "      <td>0</td>\n",
              "      <td>4</td>\n",
              "      <td>1</td>\n",
              "      <td>0</td>\n",
              "    </tr>\n",
              "    <tr>\n",
              "      <th>4</th>\n",
              "      <td>0</td>\n",
              "      <td>447.89</td>\n",
              "      <td>59.0</td>\n",
              "      <td>0.0</td>\n",
              "      <td>72.56</td>\n",
              "      <td>0</td>\n",
              "      <td>1</td>\n",
              "      <td>1</td>\n",
              "      <td>3</td>\n",
              "      <td>2</td>\n",
              "      <td>...</td>\n",
              "      <td>5</td>\n",
              "      <td>0</td>\n",
              "      <td>0</td>\n",
              "      <td>1</td>\n",
              "      <td>0</td>\n",
              "      <td>0</td>\n",
              "      <td>1</td>\n",
              "      <td>1</td>\n",
              "      <td>2</td>\n",
              "      <td>1</td>\n",
              "    </tr>\n",
              "  </tbody>\n",
              "</table>\n",
              "<p>5 rows × 27 columns</p>\n",
              "</div>"
            ],
            "text/plain": [
              "   mkt_email  next_mnth_pv   age  tenure  ammount_spent  vehicle  food  \\\n",
              "0          0        244.26  61.0     1.0          21.84        0     2   \n",
              "1          0         29.67  36.0     1.0         107.40        0     2   \n",
              "2          0         11.73  64.0     0.0          59.81        0     1   \n",
              "3          0         41.41  74.0     0.0          62.98        0     1   \n",
              "4          0        447.89  59.0     0.0          72.56        0     1   \n",
              "\n",
              "   beverage  art  baby  ...  electronics  sports  tools  games  industry  pc  \\\n",
              "0         2    0     2  ...            1       0      0      3         1   0   \n",
              "1         0    2     0  ...            1       1      1      2         1   2   \n",
              "2         0    0     0  ...            2       0      0      3         0   1   \n",
              "3         0    0     3  ...            1       0      2      2         1   1   \n",
              "4         1    3     2  ...            5       0      0      1         0   0   \n",
              "\n",
              "   jewel  books  music_books_movies  health  \n",
              "0      1      0                   0       2  \n",
              "1      1      0                   2       2  \n",
              "2      0      1                   0       1  \n",
              "3      0      4                   1       0  \n",
              "4      1      1                   2       1  \n",
              "\n",
              "[5 rows x 27 columns]"
            ]
          },
          "execution_count": 8,
          "metadata": {},
          "output_type": "execute_result"
        }
      ],
      "source": [
        "data_random.head()"
      ]
    },
    {
      "cell_type": "code",
      "execution_count": 9,
      "metadata": {},
      "outputs": [
        {
          "name": "stdout",
          "output_type": "stream",
          "text": [
            "300000 10000\n"
          ]
        }
      ],
      "source": [
        "#查看数据量\n",
        "print(len(data_biased), len(data_random))"
      ]
    },
    {
      "cell_type": "markdown",
      "metadata": {},
      "source": [
        "- Treatment Variables: `mkt_email`\n",
        "- Outcome Variables: `next_mnth_pv`\n",
        "- Confounders: other variables, making treatment heterogeneity"
      ]
    },
    {
      "cell_type": "code",
      "execution_count": 3,
      "metadata": {},
      "outputs": [],
      "source": [
        "# state the variables\n",
        "Y='next_mnth_pv'\n",
        "T='mkt_email'\n",
        "X=list(data_random.drop(columns=[Y,T]).columns)\n",
        "train, test = data_biased, data_random"
      ]
    },
    {
      "cell_type": "markdown",
      "metadata": {},
      "source": [
        "- T-Learner Training with LightGBM"
      ]
    },
    {
      "cell_type": "code",
      "execution_count": 5,
      "metadata": {},
      "outputs": [
        {
          "name": "stdout",
          "output_type": "stream",
          "text": [
            "Collecting numba\n",
            "  Downloading numba-0.58.1-cp38-cp38-macosx_10_9_x86_64.whl (2.6 MB)\n",
            "\u001b[2K     \u001b[90m━━━━━━━━━━━━━━━━━━━━━━━━━━━━━━━━━━━━━━━━\u001b[0m \u001b[32m2.6/2.6 MB\u001b[0m \u001b[31m649.6 kB/s\u001b[0m eta \u001b[36m0:00:00\u001b[0m00:01\u001b[0m00:01\u001b[0m\n",
            "\u001b[?25hCollecting llvmlite\n",
            "  Using cached llvmlite-0.41.1-cp38-cp38-macosx_10_9_x86_64.whl (31.0 MB)\n",
            "Collecting numpy<1.27,>=1.22 (from numba)\n",
            "  Using cached numpy-1.24.4-cp38-cp38-macosx_10_9_x86_64.whl (19.8 MB)\n",
            "Collecting importlib-metadata (from numba)\n",
            "  Downloading importlib_metadata-7.0.1-py3-none-any.whl (23 kB)\n",
            "Collecting zipp>=0.5 (from importlib-metadata->numba)\n",
            "  Downloading zipp-3.17.0-py3-none-any.whl (7.4 kB)\n",
            "Installing collected packages: zipp, numpy, llvmlite, importlib-metadata, numba\n",
            "\u001b[31mERROR: pip's dependency resolver does not currently take into account all the packages that are installed. This behaviour is the source of the following dependency conflicts.\n",
            "spyder 4.2.5 requires pyqt5<5.13, which is not installed.\n",
            "spyder 4.2.5 requires pyqtwebengine<5.13, which is not installed.\u001b[0m\u001b[31m\n",
            "\u001b[0mSuccessfully installed importlib-metadata-6.0.0 llvmlite-0.36.0 numba-0.53.1 numpy-1.24.4 zipp-3.11.0\n",
            "Note: you may need to restart the kernel to use updated packages.\n"
          ]
        }
      ],
      "source": [
        "%pip install numba --ignore-installed llvmlite"
      ]
    },
    {
      "cell_type": "code",
      "execution_count": 6,
      "metadata": {},
      "outputs": [
        {
          "name": "stdout",
          "output_type": "stream",
          "text": [
            "Requirement already satisfied: lightgbm in /Users/macbookpro/opt/anaconda3/lib/python3.8/site-packages (3.3.5)\n",
            "Requirement already satisfied: wheel in /Users/macbookpro/opt/anaconda3/lib/python3.8/site-packages (from lightgbm) (0.38.4)\n",
            "Requirement already satisfied: numpy in /Users/macbookpro/opt/anaconda3/lib/python3.8/site-packages (from lightgbm) (1.24.4)\n",
            "Requirement already satisfied: scipy in /Users/macbookpro/opt/anaconda3/lib/python3.8/site-packages (from lightgbm) (1.10.1)\n",
            "Requirement already satisfied: scikit-learn!=0.22.0 in /Users/macbookpro/opt/anaconda3/lib/python3.8/site-packages (from lightgbm) (1.2.2)\n",
            "Requirement already satisfied: joblib>=1.1.1 in /Users/macbookpro/opt/anaconda3/lib/python3.8/site-packages (from scikit-learn!=0.22.0->lightgbm) (1.3.2)\n",
            "Requirement already satisfied: threadpoolctl>=2.0.0 in /Users/macbookpro/opt/anaconda3/lib/python3.8/site-packages (from scikit-learn!=0.22.0->lightgbm) (2.2.0)\n",
            "Note: you may need to restart the kernel to use updated packages.\n"
          ]
        }
      ],
      "source": [
        "%pip install lightgbm "
      ]
    },
    {
      "cell_type": "code",
      "execution_count": 4,
      "metadata": {},
      "outputs": [
        {
          "name": "stdout",
          "output_type": "stream",
          "text": [
            "Requirement already satisfied: pandas in /Users/macbookpro/opt/anaconda3/lib/python3.8/site-packages (2.0.3)\n",
            "Requirement already satisfied: dask[complete] in /Users/macbookpro/opt/anaconda3/lib/python3.8/site-packages (2022.2.1)\n",
            "Collecting dask[complete]\n",
            "  Downloading dask-2023.5.0-py3-none-any.whl (1.2 MB)\n",
            "\u001b[2K     \u001b[90m━━━━━━━━━━━━━━━━━━━━━━━━━━━━━━━━━━━━━━━━\u001b[0m \u001b[32m1.2/1.2 MB\u001b[0m \u001b[31m553.9 kB/s\u001b[0m eta \u001b[36m0:00:00\u001b[0m00:01\u001b[0m00:01\u001b[0m\n",
            "\u001b[?25hRequirement already satisfied: python-dateutil>=2.8.2 in /Users/macbookpro/opt/anaconda3/lib/python3.8/site-packages (from pandas) (2.8.2)\n",
            "Requirement already satisfied: pytz>=2020.1 in /Users/macbookpro/opt/anaconda3/lib/python3.8/site-packages (from pandas) (2022.7)\n",
            "Requirement already satisfied: tzdata>=2022.1 in /Users/macbookpro/opt/anaconda3/lib/python3.8/site-packages (from pandas) (2024.1)\n",
            "Requirement already satisfied: numpy>=1.20.3 in /Users/macbookpro/opt/anaconda3/lib/python3.8/site-packages (from pandas) (1.24.4)\n",
            "Requirement already satisfied: click>=8.0 in /Users/macbookpro/opt/anaconda3/lib/python3.8/site-packages (from dask[complete]) (8.0.4)\n",
            "Requirement already satisfied: cloudpickle>=1.5.0 in /Users/macbookpro/opt/anaconda3/lib/python3.8/site-packages (from dask[complete]) (2.2.1)\n",
            "Requirement already satisfied: fsspec>=2021.09.0 in /Users/macbookpro/opt/anaconda3/lib/python3.8/site-packages (from dask[complete]) (2023.4.0)\n",
            "Requirement already satisfied: packaging>=20.0 in /Users/macbookpro/opt/anaconda3/lib/python3.8/site-packages (from dask[complete]) (23.0)\n",
            "Requirement already satisfied: partd>=1.2.0 in /Users/macbookpro/opt/anaconda3/lib/python3.8/site-packages (from dask[complete]) (1.2.0)\n",
            "Requirement already satisfied: pyyaml>=5.3.1 in /Users/macbookpro/opt/anaconda3/lib/python3.8/site-packages (from dask[complete]) (6.0)\n",
            "Requirement already satisfied: toolz>=0.10.0 in /Users/macbookpro/opt/anaconda3/lib/python3.8/site-packages (from dask[complete]) (0.12.0)\n",
            "Requirement already satisfied: importlib-metadata>=4.13.0 in /Users/macbookpro/opt/anaconda3/lib/python3.8/site-packages (from dask[complete]) (6.0.0)\n",
            "Collecting pyarrow>=7.0 (from dask[complete])\n",
            "  Downloading pyarrow-15.0.0-cp38-cp38-macosx_10_15_x86_64.whl (27.1 MB)\n",
            "\u001b[2K     \u001b[90m━━━━━━━━━━━━━━━━━━━━━━━━━━━━━━━━━━━━━━━━\u001b[0m \u001b[32m27.1/27.1 MB\u001b[0m \u001b[31m41.0 kB/s\u001b[0m eta \u001b[36m0:00:00\u001b[0m00:01\u001b[0m00:28\u001b[0m\n",
            "\u001b[?25hCollecting lz4>=4.3.2 (from dask[complete])\n",
            "  Downloading lz4-4.3.3-cp38-cp38-macosx_10_9_x86_64.whl (254 kB)\n",
            "\u001b[2K     \u001b[90m━━━━━━━━━━━━━━━━━━━━━━━━━━━━━━━━━━━━━━\u001b[0m \u001b[32m254.3/254.3 kB\u001b[0m \u001b[31m55.3 kB/s\u001b[0m eta \u001b[36m0:00:00\u001b[0ma \u001b[36m0:00:01\u001b[0m\n",
            "\u001b[?25hRequirement already satisfied: zipp>=0.5 in /Users/macbookpro/opt/anaconda3/lib/python3.8/site-packages (from importlib-metadata>=4.13.0->dask[complete]) (3.11.0)\n",
            "Requirement already satisfied: locket in /Users/macbookpro/opt/anaconda3/lib/python3.8/site-packages (from partd>=1.2.0->dask[complete]) (1.0.0)\n",
            "Requirement already satisfied: six>=1.5 in /Users/macbookpro/opt/anaconda3/lib/python3.8/site-packages (from python-dateutil>=2.8.2->pandas) (1.16.0)\n",
            "Requirement already satisfied: bokeh>=2.4.2 in /Users/macbookpro/opt/anaconda3/lib/python3.8/site-packages (from dask[complete]) (2.4.3)\n",
            "Requirement already satisfied: jinja2>=2.10.3 in /Users/macbookpro/opt/anaconda3/lib/python3.8/site-packages (from dask[complete]) (3.1.2)\n",
            "Collecting distributed==2023.5.0 (from dask[complete])\n",
            "  Downloading distributed-2023.5.0-py3-none-any.whl (966 kB)\n",
            "\u001b[2K     \u001b[90m━━━━━━━━━━━━━━━━━━━━━━━━━━━━━━━━━━━━━\u001b[0m \u001b[32m966.6/966.6 kB\u001b[0m \u001b[31m129.8 kB/s\u001b[0m eta \u001b[36m0:00:00\u001b[0m00:01\u001b[0m00:01\u001b[0m\n",
            "\u001b[?25hRequirement already satisfied: msgpack>=1.0.0 in /Users/macbookpro/opt/anaconda3/lib/python3.8/site-packages (from distributed==2023.5.0->dask[complete]) (1.0.3)\n",
            "Requirement already satisfied: psutil>=5.7.0 in /Users/macbookpro/opt/anaconda3/lib/python3.8/site-packages (from distributed==2023.5.0->dask[complete]) (5.9.0)\n",
            "Requirement already satisfied: sortedcontainers>=2.0.5 in /Users/macbookpro/opt/anaconda3/lib/python3.8/site-packages (from distributed==2023.5.0->dask[complete]) (2.4.0)\n",
            "Requirement already satisfied: tblib>=1.6.0 in /Users/macbookpro/opt/anaconda3/lib/python3.8/site-packages (from distributed==2023.5.0->dask[complete]) (1.7.0)\n",
            "Requirement already satisfied: tornado>=6.0.3 in /Users/macbookpro/opt/anaconda3/lib/python3.8/site-packages (from distributed==2023.5.0->dask[complete]) (6.2)\n",
            "Requirement already satisfied: urllib3>=1.24.3 in /Users/macbookpro/opt/anaconda3/lib/python3.8/site-packages (from distributed==2023.5.0->dask[complete]) (1.26.16)\n",
            "Requirement already satisfied: zict>=2.2.0 in /Users/macbookpro/opt/anaconda3/lib/python3.8/site-packages (from distributed==2023.5.0->dask[complete]) (2.2.0)\n",
            "Requirement already satisfied: pillow>=7.1.0 in /Users/macbookpro/opt/anaconda3/lib/python3.8/site-packages (from bokeh>=2.4.2->dask[complete]) (9.4.0)\n",
            "Requirement already satisfied: typing-extensions>=3.10.0 in /Users/macbookpro/opt/anaconda3/lib/python3.8/site-packages (from bokeh>=2.4.2->dask[complete]) (4.8.0)\n",
            "Requirement already satisfied: MarkupSafe>=2.0 in /Users/macbookpro/opt/anaconda3/lib/python3.8/site-packages (from jinja2>=2.10.3->dask[complete]) (2.1.1)\n",
            "Requirement already satisfied: heapdict in /Users/macbookpro/opt/anaconda3/lib/python3.8/site-packages (from zict>=2.2.0->distributed==2023.5.0->dask[complete]) (1.0.1)\n",
            "Installing collected packages: pyarrow, lz4, dask, distributed\n",
            "  Attempting uninstall: dask\n",
            "    Found existing installation: dask 2022.2.1\n",
            "    Uninstalling dask-2022.2.1:\n",
            "      Successfully uninstalled dask-2022.2.1\n",
            "  Attempting uninstall: distributed\n",
            "    Found existing installation: distributed 2022.2.1\n",
            "    Uninstalling distributed-2022.2.1:\n",
            "      Successfully uninstalled distributed-2022.2.1\n",
            "Successfully installed dask-2023.5.0 distributed-2023.5.0 lz4-4.3.3 pyarrow-15.0.0\n",
            "Note: you may need to restart the kernel to use updated packages.\n"
          ]
        }
      ],
      "source": [
        "%pip install --upgrade pandas \"dask[complete]\""
      ]
    },
    {
      "cell_type": "code",
      "execution_count": 4,
      "metadata": {},
      "outputs": [],
      "source": [
        "from lightgbm import LGBMRegressor"
      ]
    },
    {
      "cell_type": "code",
      "execution_count": 5,
      "metadata": {},
      "outputs": [],
      "source": [
        "np.random.seed(123)"
      ]
    },
    {
      "cell_type": "code",
      "execution_count": null,
      "metadata": {},
      "outputs": [],
      "source": [
        "model0=LGBMRegressor()\n",
        "model1=LGBMRegressor()\n",
        "model0.fit(train.query(f\"{T}==0\")[X], train.query(f\"{T}==0\")[Y])\n",
        "model1.fit(train.query(f\"{T}==1\")[X], train.query(f\"{T}==1\")[Y])"
      ]
    },
    {
      "cell_type": "markdown",
      "metadata": {
        "id": "AMcAxTMS401B"
      },
      "source": [
        "### References\n",
        "- Causal Inference for Brave and True. https://matheusfacure.github.io/python-causality-handbook/21-Meta-Learners.html\n",
        "- CausalML. https://matheusfacure.github.io/python-causality-handbook/21-Meta-Learners.html\n",
        "- EconML.\n",
        "  - https://econml.azurewebsites.net/spec/estimation/metalearners.html\n",
        "  - https://nbviewer.org/github/py-why/EconML/blob/main/notebooks/Metalearners%20Examples.ipynb\n",
        "- Meta-learners for Estimating Treatment Effect in Causal Inference. https://towardsdatascience.com/meta-learners-for-estimating-treatment-effect-in-causal-inference-4f7071503401"
      ]
    }
  ],
  "metadata": {
    "colab": {
      "provenance": []
    },
    "kernelspec": {
      "display_name": "Python 3",
      "name": "python3"
    },
    "language_info": {
      "codemirror_mode": {
        "name": "ipython",
        "version": 3
      },
      "file_extension": ".py",
      "mimetype": "text/x-python",
      "name": "python",
      "nbconvert_exporter": "python",
      "pygments_lexer": "ipython3",
      "version": "3.8.8"
    }
  },
  "nbformat": 4,
  "nbformat_minor": 0
}
